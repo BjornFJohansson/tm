{
 "cells": [
  {
   "cell_type": "markdown",
   "metadata": {},
   "source": [
    "## State of the art for PCR primer melting temperature (tm) calculation\n",
    "\n",
    "PCR Primer Inspector was a well documented compared to many other online tools. Clicking on the question mark next to each argument displays a page of text regarding the calculation.\n",
    "\n",
    "The objective of this analysis is to find out if PCR Primer Inspector and biopython (both being modern tools) calculate the same value for Tm of primers.\n",
    "\n",
    "This comparison was done on July 2024, Biopython version 1.83.\n",
    "\n",
    "The example case is described below:\n",
    "\n",
    "The PCR reaction is a version of this [standard](https://www.neb.com/protocols/0001/01/01/taq-dna-polymerase-with-standard-taq-buffer-m0273) protocol:\n",
    "\n",
    "- 1X Taq Buffer with (NH4)2SO4\n",
    "- 0.2 mM of each dNTP\n",
    "- 2 mM MgCl2\n",
    "- 1 µM Primer I \n",
    "- 1 µM Primer II \n",
    "- Template DNA\n",
    "\n",
    "The example buffer has this composition:\n",
    "\n",
    "[10X Taq Buffer with (NH4)2SO4](https://www.thermofisher.com/order/catalog/product/B33?SID=srch-srp-B33#/B33?SID=srch-srp-B33) (B33) includes:\n",
    "- 750 mM Tris-HCl (pH 8.8 at 25°C)\n",
    "- 200 mM (NH4)2SO4\n",
    "- 0.1% (v/v) Tween 20\n",
    "\n",
    "This means that the final PCR reaction has: \n",
    "\n",
    "- 75 mM Tris-HCl\n",
    "- 40 mM NH4+ \n",
    "- 20 mM SO42-\n",
    "- 2  mM Mg2+\n",
    "- 4  mM Cl-\n",
    "\n",
    "\n",
    "The text below was copied from PCR Primer Inspector\n",
    "\n",
    "    The total concentration of monovalent cations is expectedly a sum of concentrations of sodium, potassium and ammonium cations \n",
    "    (not all of them have to be present in a PCR reaction mix). It is also advised to add the concentration of the dissociated \n",
    "    fraction of Tris in the PCR reaction mix (a half of the total Tris concentration may be a good approximation). \n",
    "    The Tm prediction may be less accurate in high concentrations (above 100 mM) of monovalent ions capable to form hydrogen bonds \n",
    "    (ammonium, Tris) and for bulkier monovalent ions (tetramethylammonium).\n",
    "\n",
    "Hence, \"Cations\" concentration should be 75/2 (half of Tris-HCl) + 40 (NH4+) = 77.5 mM.\n",
    "There should be very little of other monovalent cations.\n",
    "\n",
    "The list of arguments is:\n",
    "\n",
    "- Primer concentration (nM): 1000 \n",
    "- Total monovalent cation concentration (mM): 77.5 \n",
    "- Mg2+concentration (mM): 2 \n",
    "- Total dNTPs concentration (mM): 0.8\n",
    "\n",
    "This values above were added to the input form of PCR Primer Inspector:\n",
    "\n",
    "![](page1.png)\n",
    "\n",
    "The result is 54.4°C for \"Owczarzy 2008\" and 54.9°C for \"von Ahsen 2001\". The use of these  \n",
    "references is described below. The text below was copied from PCR Primer Inspector:\n",
    "\n",
    "    MELTING TEMPERATURE CALCULATION\n",
    "\n",
    "    All the melting temperature calculations provided here are based on the \n",
    "    nearest neighbor method with parameters described in references [1] and [4]. \n",
    "\n",
    "    Results of two different algorithms (references [2] and [3]) for monovalent \n",
    "    and magnesium cation correction are offered.\n",
    "\n",
    "    1.  A unified view of polymer, dumbbell, and oligonucleotide DNA nearest-neighbor thermodynamics\n",
    "        SantaLucia J. Jr. Proc Natl Acad Sci U S A. 1998;95(4):1460-5.\n",
    "\n",
    "    2.  Oligonucleotide melting temperatures under PCR conditions: nearest-neighbor corrections for Mg(2+), \n",
    "        deoxynucleotide triphosphate, and dimethyl sulfoxide concentrations with comparison to alternative \n",
    "        empirical formulas\n",
    "        von Ahsen N., Wittwer C. T., Schütz E.\n",
    "        Clin Chem. 2001;47(11):1956-61.\n",
    "\n",
    "    3.  Predicting stability of DNA duplexes in solutions containing magnesium and monovalent cations\n",
    "        Owczarzy R., Moreira B. G., You Y., Behlke M. A., Walder J. A.\n",
    "        Biochemistry. 2008;47(19):5336-53.\n",
    "\n",
    "    4.  The thermodynamics of DNA structural motifs\n",
    "        SantaLucia J. Jr., Hicks D.\n",
    "        Annu Rev Biophys Biomol Struct. 2004;33:415-40.\n",
    "\n",
    "The first statement is somewhat ambiguous as the data in 1 and 4 are different (see below) although indeed very similar.\n",
    "\n",
    "#### SantaLucia 1998\n",
    "![](sl_1998_table2.png)\n",
    "\n",
    "#### SantaLucia 2004\n",
    "![](sl_and_hicks_2004_table1.png)\n",
    "\n",
    "As can be observed by comparing the two tables above, they only differ for the AA/TT entry\n",
    "and for Initiation / Init. w term. GC and Terminal AT penalty / Init. w term. AT.\n"
   ]
  },
  {
   "cell_type": "markdown",
   "metadata": {},
   "source": [
    "### Biopython\n",
    "\n",
    "From Biopython [docs](https://biopython.org/DIST/docs/api/Bio.SeqUtils.MeltingTemp-module.html):\n",
    "\n",
    "table: Thermodynamic NN values, eight tables are implemented: For DNA/DNA hybridizations:\n",
    "\n",
    "- DNA_NN1: values from Breslauer et al. (1986)\n",
    "- DNA_NN2: values from Sugimoto et al. (1996)\n",
    "- DNA_NN3: values from Allawi & SantaLucia (1997) (default) <===<<<< Should be the same as SantaLucia 1998\n",
    "- DNA_NN4: values from SantaLucia & Hicks (2004)                   \n",
    "\n",
    "The salt correction method from Owczarzy et al. (2008) was chosen since this was what was used for PCR Primer Inspector.\n",
    "\n",
    "[7](https://biopython.org/DIST/docs/api/Bio.SeqUtils.MeltingTemp-module.html#salt_correction) = Complex formula with decision tree and 7 empirical constants. Mg2+ is corrected for dNTPs binding (if present) (Owczarzy et al. (2008), Biochemistry 47: 5336-5353)"
   ]
  },
  {
   "cell_type": "code",
   "execution_count": 5,
   "metadata": {},
   "outputs": [
    {
     "data": {
      "text/plain": [
       "'1.83'"
      ]
     },
     "execution_count": 5,
     "metadata": {},
     "output_type": "execute_result"
    }
   ],
   "source": [
    "import Bio\n",
    "Bio.__version__"
   ]
  },
  {
   "cell_type": "code",
   "execution_count": 6,
   "metadata": {},
   "outputs": [],
   "source": [
    "from Bio.SeqUtils import MeltingTemp as mt"
   ]
  },
  {
   "cell_type": "markdown",
   "metadata": {},
   "source": [
    "The primer sequence is identical to the one used for the PCR Primer Inspector"
   ]
  },
  {
   "cell_type": "code",
   "execution_count": 7,
   "metadata": {},
   "outputs": [
    {
     "name": "stdout",
     "output_type": "stream",
     "text": [
      "57.02281745439029\n"
     ]
    }
   ],
   "source": [
    "print( mt.Tm_NN(\"ATGGCAGTTGAGAAGA\", \n",
    "       nn_table=mt.DNA_NN3,\n",
    "       Na=40,\n",
    "       Tris=75.0,\n",
    "       Mg=2.0, \n",
    "       dnac1=1000, \n",
    "       dnac2=0, \n",
    "       dNTPs=0.8, \n",
    "       saltcorr=7) )"
   ]
  },
  {
   "cell_type": "markdown",
   "metadata": {},
   "source": [
    "### The biopython module reports 57.0228 °C while the PCR Primer Inspector reported 54.4°C.\n",
    "The difference is about 3 °C.\n",
    "\n",
    "This is a greater difference that I expected with care taken to use the same thermodynamic data. \n",
    "I contacted Vladimir Cermak by email:\n",
    "\n",
    "    Hi, I have tried to replicate the results from PCR Primer Inspector@molbiotools.com\n",
    "    with biopython using the same parameters and the same data as far as I could tell. I still have a difference of about 3C.\n",
    "    \n",
    "    I compiled the comparison in this notebook:\n",
    "    \n",
    "    https://github.com/BjornFJohansson/tm/blob/master/tm.ipynb\n",
    "    \n",
    "    Would you care to have a look at it? to see if there is something obviously wrong?\n",
    "    Is the code used by PCR Primer Inspector available for comparison?\n",
    "    \n",
    "    All the best,\n",
    "    Björn Johansson\n",
    "\n",
    "Response:\n",
    "\n",
    "    I tried to figure this out, but as I didn't see the python code I can only guess.\n",
    "    \n",
    "    PCR Primer Inspector uses the parameters from [1], but changing them to [4] gives only 0.1°C difference.\n",
    "    \n",
    "    What is probably the source of the discordant results is different understanding and implementation of this (from SantaLucia 1998):\n",
    "    \n",
    "    \"For self-complementary oligonucleotide duplexes, the Tm is calculated from the predicted dH° and dS° and the total oligonucleotide \n",
    "    strand concentration CT, by using the equation ...[3]... For non-selfcomplementary molecules, CT in Eq. 3 is replaced by CT/4 \n",
    "    if the strands are in equal concentration or by (CA - CB/2) if the strands are at different concentrations, where CA and CB are \n",
    "    the concentrations of the more concentrated and less concentrated strands, respectively.\"\n",
    "        \n",
    "    That sounds like it should be CT for PCR conditions where C(primer)>>C(template) and CT/4 for an equimolar mix of complementary oligos. \n",
    "    However, when checking the available code of Primer3, I found they use CT/4 for PCR conditions. \n",
    "    I decided to be compliant with Primer3 (also Primer BLAST).\n",
    "    \n",
    "    If I change the algorithm to CT instead of CT/4, it gives 57.0 for half the Tris concentration and \n",
    "    57.9 for the whole Tris counted as monovalent cations.\n",
    "    \n",
    "    So it may be that there is a mistake in Primer3 (and hence also in PCR Primer Inspector), \n",
    "    which is a kind of \"gold standard\" in the field....\n",
    "    \n",
    "    Best regards,\n",
    "    Vladimir Cermak\n",
    "\n",
    "\n",
    "This means that the PCR Primer Inspector, Primer3 and other widely used tools implements the primer concentration\n",
    "in a way not intended by the original author. The question is how to correctly emulate this using Biopython.\n",
    "Fortunately the Biopython documentation explains this nicely:\n",
    "\n",
    "[![](dnac1_2.png)](https://biopython.org/DIST/docs/api/Bio.SeqUtils.MeltingTemp-pysrc.html#Tm_NN)\n",
    "\n",
    "If I instead assign dnac1 and dnac2 to half of the total primer concentration according to the biopyton docs,\n",
    "the result become rather similar."
   ]
  },
  {
   "cell_type": "code",
   "execution_count": 8,
   "metadata": {},
   "outputs": [
    {
     "name": "stdout",
     "output_type": "stream",
     "text": [
      "54.49960170791479\n"
     ]
    }
   ],
   "source": [
    "from Bio.SeqUtils import MeltingTemp as mt\n",
    "print( mt.Tm_NN(\"ATGGCAGTTGAGAAGA\", \n",
    "       nn_table=mt.DNA_NN3,\n",
    "       Na=40,\n",
    "       Tris=75.0,\n",
    "       Mg=2.0, \n",
    "       dnac1=1000/2, \n",
    "       dnac2=1000/2, \n",
    "       dNTPs=4*0.2, \n",
    "       saltcorr=7) )"
   ]
  },
  {
   "cell_type": "markdown",
   "metadata": {},
   "source": [
    "PCR Primer Inspector gave 54.4 while biopython above gave 54.49 C or a 0.09 C higher tm."
   ]
  },
  {
   "cell_type": "code",
   "execution_count": 9,
   "metadata": {},
   "outputs": [
    {
     "name": "stdout",
     "output_type": "stream",
     "text": [
      "54.42261614376554\n"
     ]
    }
   ],
   "source": [
    "from Bio.SeqUtils import MeltingTemp as mt\n",
    "print( mt.Tm_NN(\"ATGGCAGTTGAGAAGA\", \n",
    "       nn_table=mt.DNA_NN4,\n",
    "       Na=40,\n",
    "       Tris=75.0,\n",
    "       Mg=2.0, \n",
    "       dnac1=1000/2, \n",
    "       dnac2=1000/2, \n",
    "       dNTPs=0.8, \n",
    "       saltcorr=7) )"
   ]
  },
  {
   "cell_type": "markdown",
   "metadata": {},
   "source": [
    "With the SantaLucia 2004 data, the results agree completely."
   ]
  }
 ],
 "metadata": {
  "anaconda-cloud": {},
  "kernelspec": {
   "display_name": "Python [conda env:bjorn311]",
   "language": "python",
   "name": "conda-env-bjorn311-py"
  },
  "language_info": {
   "codemirror_mode": {
    "name": "ipython",
    "version": 3
   },
   "file_extension": ".py",
   "mimetype": "text/x-python",
   "name": "python",
   "nbconvert_exporter": "python",
   "pygments_lexer": "ipython3",
   "version": "3.11.8"
  }
 },
 "nbformat": 4,
 "nbformat_minor": 4
}
