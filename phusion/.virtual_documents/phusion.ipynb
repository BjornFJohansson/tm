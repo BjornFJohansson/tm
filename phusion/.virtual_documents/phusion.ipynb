


from pydna.tm import tm_dbd, tmbresluc

primers = """\
AGCGGATAACAATTTCACACAGGA
GTAAAACGACGGCCAGT
AGCGGATAACAATTTCAC
AGCGGATAAGGGCAATTTCAC
GTAAAACGACGGCCA
""".splitlines()

for p in primers:
    print(tm_dbd(p))


from Bio.SeqUtils import MeltingTemp as mt





from itertools import cycle

tables = cycle(['DNA_NN1', 'DNA_NN2', 'DNA_NN3', 'DNA_NN4'])

tms=[]
for saltcorr in [1,2,3,4,5,6,7]:
    print("saltcorrection", saltcorr)
    for nn_table in [mt.DNA_NN1,mt.DNA_NN2,mt.DNA_NN3,mt.DNA_NN4]:
        print( next(tables),   mt.Tm_NN( "AGCGGATAACAATTTCACACAGGA", # P1fwd
                               nn_table=nn_table,
                               Na=50,
                               Tris=75.0,
                               Mg=1.5, 
                               dnac1=500, 
                               dnac2=500, 
                               dNTPs=0.8, 
                               saltcorr=saltcorr))
    print()





primers = """\
P1fwd	 AGCGGATAACAATTTCACACAGGA	
P1rev	 GTAAAACGACGGCCAGT	
pBeta	 AGCGGATAACAATTTCAC	
P3fwd	 AGCGGATAAGGGCAATTTCAC	
P3rev	 GTAAAACGACGGCCA"""

for name, primer in [s.split() for s in primers.splitlines()]:
    tm = mt.Tm_NN( primer,
                   nn_table=mt.DNA_NN3,
                   Na=50,
                   Tris=75.0,
                   Mg=1.5, 
                   dnac1=500, 
                   dnac2=500, 
                   dNTPs=0.8, 
                   saltcorr=1)
    print(name, f"{tm:.0f}")





def Tm_NEB(primer):
    tm = mt.Tm_NN( primer,
               nn_table=mt.DNA_NN3,
               Na=50,
               Tris=75.0,
               Mg=1.5, 
               dnac1=500, 
               dnac2=500, 
               dNTPs=0.8, 
               saltcorr=1)
    return tm


def Ta_NEB(fp,rp):
    tms = []
    for primer in [fp,rp]:
        tms.append(Tm_NEB(primer))
    tm = min(tms) + 3.0
    return tm if tm<72 else 72

round(Ta_NEB("AGCGGATAACAATTTCACACAGGA","GTAAAACGACGGCCAGT")) # P1fwd + P1rev





primers = """\
P1fwd	 AGCGGATAACAATTTCACACAGGA	
P1rev	 GTAAAACGACGGCCAGT	
pBeta	 AGCGGATAACAATTTCAC	
P3fwd	 AGCGGATAAGGGCAATTTCAC	
P3rev	 GTAAAACGACGGCCA"""

for name, primer in [s.split() for s in primers.splitlines()]:
    tm = mt.Tm_NN( primer,
                   nn_table=mt.DNA_NN4,
                   Na=50,
                   Tris=75.0,
                   Mg=1.5,
                   dnac1=500, 
                   dnac2=500, 
                   dNTPs=0.8, 
                   saltcorr=7)
    print(name, f"{tm:.1f}")





primers = """\
P1fwd	 AGCGGATAACAATTTCACACAGGA	
P1rev	 GTAAAACGACGGCCAGT	
pBeta	 AGCGGATAACAATTTCAC	
P3fwd	 AGCGGATAAGGGCAATTTCAC	
P3rev	 GTAAAACGACGGCCA"""

for name, primer in [s.split() for s in primers.splitlines()]:
    tm = mt.Tm_NN( primer,
                   nn_table=mt.DNA_NN3,
                   Na=50,
                   Tris=75.0,
                   Mg=1.5,
                   dnac1=500, 
                   dnac2=500, 
                   dNTPs=0.8, 
                   saltcorr=4)
    print(name, f"{tm:.1f}")





# import random
# def randomDNA(size=20, gc=0.5):
#     weights = [gc/2,gc/2,(1-gc)/2,(1-gc)/2]
#     return "".join( random.choices(("G","C","A","T"),weights=weights, k=size) )

# primers = []
# tms = []

# for i in range(100):
#     fp = randomDNA(18)
#     rp = randomDNA(18)
#     primers.append((fp,rp))

# for i,(fp,rp) in enumerate(primers):    
#     print(f"fp{i}", ";",fp,";",f"rp{i}",";",rp)


import pandas as pd


NEB = pd.read_csv("tmcalc_batch.txt", names=("pr","seq","Tm","Ta", "comment"), sep="\t")
NEB


primers = [p.strip() for p in NEB["seq"] ]


primers


primers[199]


# https://www.geeksforgeeks.org/adding-new-column-to-existing-dataframe-in-pandas
NEB["Tm bp"] = [Tm_NEB(p) for p in primers]


NEB


# https://stackoverflow.com/questions/312443/how-do-you-split-a-list-into-evenly-sized-chunks
from itertools import zip_longest
primer_pairs = list( zip_longest(*[iter(primers)]*2) )


tas = [Ta_NEB(f,r) for f,r in primer_pairs]


tas_twice = []
for ta in tas:
    tas_twice.append(ta)
    tas_twice.append(ta)


NEB["Ta bp"] = tas_twice


NEB


# https://stackoverflow.com/questions/17812978/how-to-plot-two-columns-of-a-pandas-data-frame-using-points
NEB.plot(x='Tm', y='Tm bp', style='.')


NEB.plot(x='Ta', y='Ta bp', style='.')



