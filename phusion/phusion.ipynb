{
 "cells": [
  {
   "cell_type": "markdown",
   "metadata": {},
   "source": [
    "### Tm calculations for polymerases with a DNA binding domain such as Phusion\n",
    "\n",
    "The Phusion DNA polymerase is a processive version of the Pfu DNA polymerase. \n",
    "The enzyme was engineered with a DNA binding domain that tends to stabilize DNA, so\n",
    "a higher annealing temperature is needed compared to other polymerases such as Taq.\n",
    "\n",
    "Phusion was first marketed by Finnzyme, and they provided a Tm calculator applet that \n",
    "is no longer available. This applet was written in Java and I decompiled the code and\n",
    "translated into python as the pydna.tm.tmbresluc. I unfortunately do not have the source \n",
    "code anymore, but I remember verifying that results were identical.\n",
    "\n",
    "The Finnzyme calculator (and the pydna.tm.tmbresluc function) give a Tm that is quite high.\n",
    "Phusion is now marketed by Thermofisher Scientific (TFS) and NEB and each provide their \n",
    "own Tm calculator:\n",
    "\n",
    "[Thermofisher Tm](https://www.thermofisher.com/pt/en/home/brands/thermo-scientific/molecular-biology/molecular-biology-learning-center/molecular-biology-resource-library/thermo-scientific-web-tools/tm-calculator.html)\n",
    "\n",
    "[NEB Tm](https://tmcalculator.neb.com)\n",
    "\n",
    "These calculators give different values for the same primers and the same settings which are also different from\n",
    "pydna.tm.tmbresluc and presumably the Finnzyme calculator.\n",
    "\n",
    "For example, This primer is used as an example for the NEB Tm calculator:\n",
    "    \n",
    "    Tm\n",
    "           Primer                         TFS    NEB    pydna\n",
    "    P1fwd  AGCGGATAACAATTTCACACAGGA       65.7   62     64.3\n",
    "    P1rev  GTAAAACGACGGCCAGT              60.2   57     55.1\n",
    "    pBeta  AGCGGATAACAATTTCAC             55.9   52     51.6\n",
    "    P3fwd  AGCGGATAAGGGCAATTTCAC          64.1   61     62.9\n",
    "    P3rev  GTAAAACGACGGCCA                56.4   53     52.4\n",
    "\n",
    "While Tm values are quite different, Suggested Annealing temperature (Ta) values for primer pairs \n",
    "are quite close. It appears that TFS picks the lowest of the two Tm values as Ta, while the NEB \n",
    "picks the lowest and adds 3C.\n",
    "\n",
    "    Ta\n",
    "    \n",
    "    Primer pair                           TFS    NEB                 \n",
    "    P1fwd + P1rev                         60.2   61\n",
    "    P3fwd + P3rev                         56.4   57\n",
    "    \n",
    "Primer concentration was set to 500 nM and Phusion HF buffer was selected for the NEB celculator when applicable.\n",
    "The raw data for the analysis above can be found in the two pdfs below:\n",
    "\n",
    "\n",
    "[TFS Calculator result](Tm-Calculator_Thermo-Fisher-Scientific-PT.pdf)\n",
    "\n",
    "\n",
    "[NEB Calculator result](NEB-Tm-Calculator.pdf)"
   ]
  },
  {
   "cell_type": "code",
   "execution_count": 9,
   "metadata": {},
   "outputs": [],
   "source": [
    "from Bio.SeqUtils import MeltingTemp as mt"
   ]
  },
  {
   "cell_type": "markdown",
   "metadata": {},
   "source": [
    "Biopython offers a [wide range of Tm formulas](https://biopython.org/DIST/docs/api/Bio.SeqUtils.MeltingTemp-module.html) and I will try to recreate the results of the TFS and NEB calculators using Biopython.\n",
    "\n",
    "Unfortunatley, the descriptions provided by the companies is not enough to positively know how the \n",
    "calculations were done. For this reason I will loop through the most important settings provided by Biopython\n",
    "to see if there is a match or at least a close match.\n",
    "\n",
    "The primer concentrations were set to 500 nM and the Mg2+ to 1.5 mM as provided by the HF buffer ([description](MAN0013369_Phusion_HF_Buffer_Pack_UG.pdf)). \n",
    "\n",
    "\n",
    "There are seven different salt correction formulas \n",
    "\n",
    "       1. 16.6 x log[Na+]\n",
    "          (Schildkraut & Lifson (1965), Biopolymers 3: 195-208)\n",
    "       2. 16.6 x log([Na+]/(1.0 + 0.7*[Na+]))\n",
    "          (Wetmur (1991), Crit Rev Biochem Mol Biol 126: 227-259)\n",
    "       3. 12.5 x log(Na+]\n",
    "          (SantaLucia et al. (1996), Biochemistry 35: 3555-3562\n",
    "       4. 11.7 x log[Na+]\n",
    "          (SantaLucia (1998), Proc Natl Acad Sci USA 95: 1460-1465\n",
    "       5. Correction for deltaS: 0.368 x (N-1) x ln[Na+]\n",
    "          (SantaLucia (1998), Proc Natl Acad Sci USA 95: 1460-1465)\n",
    "       6. (4.29(%GC)-3.95)x1e-5 x ln[Na+] + 9.40e-6 x ln[Na+]^2\n",
    "          (Owczarzy et al. (2004), Biochemistry 43: 3537-3554)\n",
    "       7. Complex formula with decision tree and 7 empirical constants.\n",
    "          Mg2+ is corrected for dNTPs binding (if present)\n",
    "          (Owczarzy et al. (2008), Biochemistry 47: 5336-5353)\n",
    "\n",
    "\n",
    "and four different tables with nearest neighbor thermodynamic data.\n",
    "\n",
    "        - DNA_NN1: values from Breslauer et al. (1986)\n",
    "        - DNA_NN2: values from Sugimoto et al. (1996)\n",
    "        - DNA_NN3: values from Allawi & SantaLucia (1997) (default)\n",
    "        - DNA_NN4: values from SantaLucia & Hicks (2004)\n",
    "\n",
    "The dnac1 and 2 were set to 500 nM and Mg to 1.5 mM\n",
    "\n",
    "The primer sequence is the P1fwd (see above)."
   ]
  },
  {
   "cell_type": "code",
   "execution_count": 10,
   "metadata": {},
   "outputs": [
    {
     "name": "stdout",
     "output_type": "stream",
     "text": [
      "saltcorrection 1\n",
      "DNA_NN1 73.47550291410457\n",
      "DNA_NN2 66.3161816707943\n",
      "DNA_NN3 62.12795214651103\n",
      "DNA_NN4 63.94506682293299\n",
      "\n",
      "saltcorrection 2\n",
      "DNA_NN1 72.58464965941893\n",
      "DNA_NN2 65.42532841610866\n",
      "DNA_NN3 61.23709889182539\n",
      "DNA_NN4 63.054213568247356\n",
      "\n",
      "saltcorrection 3\n",
      "DNA_NN1 76.45241066662001\n",
      "DNA_NN2 69.29308942330974\n",
      "DNA_NN3 65.10485989902648\n",
      "DNA_NN4 66.92197457544844\n",
      "\n",
      "saltcorrection 4\n",
      "DNA_NN1 77.03327071589132\n",
      "DNA_NN2 69.87394947258105\n",
      "DNA_NN3 65.68571994829779\n",
      "DNA_NN4 67.50283462471975\n",
      "\n",
      "saltcorrection 5\n",
      "DNA_NN1 75.67602180131865\n",
      "DNA_NN2 69.57693752740619\n",
      "DNA_NN3 65.16353763529838\n",
      "DNA_NN4 66.82918312259733\n",
      "\n",
      "saltcorrection 6\n",
      "DNA_NN1 77.67293356675424\n",
      "DNA_NN2 70.82077552782476\n",
      "DNA_NN3 66.80945823888635\n",
      "DNA_NN4 68.55006949275128\n",
      "\n",
      "saltcorrection 7\n",
      "DNA_NN1 74.71273444065656\n",
      "DNA_NN2 67.97461333236214\n",
      "DNA_NN3 64.02902340553459\n",
      "DNA_NN4 65.74120743229503\n",
      "\n"
     ]
    }
   ],
   "source": [
    "from itertools import cycle\n",
    "\n",
    "tables = cycle(['DNA_NN1', 'DNA_NN2', 'DNA_NN3', 'DNA_NN4'])\n",
    "\n",
    "tms=[]\n",
    "for saltcorr in [1,2,3,4,5,6,7]:\n",
    "    print(\"saltcorrection\", saltcorr)\n",
    "    for nn_table in [mt.DNA_NN1,mt.DNA_NN2,mt.DNA_NN3,mt.DNA_NN4]:\n",
    "        print( next(tables),   mt.Tm_NN( \"AGCGGATAACAATTTCACACAGGA\", # P1fwd\n",
    "                               nn_table=nn_table,\n",
    "                               Na=50,\n",
    "                               Tris=75.0,\n",
    "                               Mg=1.5, \n",
    "                               dnac1=500, \n",
    "                               dnac2=500, \n",
    "                               dNTPs=0.8, \n",
    "                               saltcorr=saltcorr))\n",
    "    print()"
   ]
  },
  {
   "cell_type": "markdown",
   "metadata": {},
   "source": [
    "The third value above is 62.12795214651103 (saltcorrection 1 & DNA_NN3) is the closest to 62 which is the value for this primer by NEB Tm.\n",
    "In the cell below, this setting is tested for all the previously listed primers. "
   ]
  },
  {
   "cell_type": "code",
   "execution_count": 11,
   "metadata": {},
   "outputs": [
    {
     "name": "stdout",
     "output_type": "stream",
     "text": [
      "P1fwd 62\n",
      "P1rev 57\n",
      "pBeta 52\n",
      "P3fwd 61\n",
      "P3rev 53\n"
     ]
    }
   ],
   "source": [
    "primers = \"\"\"\\\n",
    "P1fwd\t AGCGGATAACAATTTCACACAGGA\t\n",
    "P1rev\t GTAAAACGACGGCCAGT\t\n",
    "pBeta\t AGCGGATAACAATTTCAC\t\n",
    "P3fwd\t AGCGGATAAGGGCAATTTCAC\t\n",
    "P3rev\t GTAAAACGACGGCCA\"\"\"\n",
    "\n",
    "for name, primer in [s.split() for s in primers.splitlines()]:\n",
    "    tm = mt.Tm_NN( primer,\n",
    "                   nn_table=mt.DNA_NN3,\n",
    "                   Na=50,\n",
    "                   Tris=75.0,\n",
    "                   Mg=1.5, \n",
    "                   dnac1=500, \n",
    "                   dnac2=500, \n",
    "                   dNTPs=0.8, \n",
    "                   saltcorr=1)\n",
    "    print(name, f\"{tm:.0f}\")"
   ]
  },
  {
   "cell_type": "markdown",
   "metadata": {},
   "source": [
    "The output is identical to the one given by NEB. Saltcorrection = 1 corresponds to the one by Schildkraut & Lifson that [NEB says that they use](NEB_help.pdf) on their help page.\n",
    "The Ta algorithm shoud then be described by the function below."
   ]
  },
  {
   "cell_type": "code",
   "execution_count": 12,
   "metadata": {},
   "outputs": [],
   "source": [
    "def Tm_NEB(primer):\n",
    "    tm = mt.Tm_NN( primer,\n",
    "               nn_table=mt.DNA_NN3,\n",
    "               Na=50,\n",
    "               Tris=75.0,\n",
    "               Mg=1.5, \n",
    "               dnac1=500, \n",
    "               dnac2=500, \n",
    "               dNTPs=0.8, \n",
    "               saltcorr=1)\n",
    "    return tm"
   ]
  },
  {
   "cell_type": "code",
   "execution_count": 39,
   "metadata": {},
   "outputs": [
    {
     "data": {
      "text/plain": [
       "60"
      ]
     },
     "execution_count": 39,
     "metadata": {},
     "output_type": "execute_result"
    }
   ],
   "source": [
    "def Ta_NEB(fp,rp):\n",
    "    tms = []\n",
    "    for primer in [fp,rp]:\n",
    "        tms.append(Tm_NEB(primer))\n",
    "    tm = min(tms) + 3.0\n",
    "    return tm if tm<72 else 72\n",
    "\n",
    "round(Ta_NEB(\"AGCGGATAACAATTTCACACAGGA\",\"GTAAAACGACGGCCAGT\")) # P1fwd + P1rev"
   ]
  },
  {
   "cell_type": "markdown",
   "metadata": {},
   "source": [
    "The TFS calculator value for P1fwd AGCGGATAACAATTTCACACAGGA (65.7) corresponds best to the value for saltcorrection 7 & DNA_NN4 = 65.74120743229503 but also for saltcorrection 4 & DNA_NN3= 65.68571994829779. The first case gives:"
   ]
  },
  {
   "cell_type": "code",
   "execution_count": 14,
   "metadata": {},
   "outputs": [
    {
     "name": "stdout",
     "output_type": "stream",
     "text": [
      "P1fwd 65.7\n",
      "P1rev 61.6\n",
      "pBeta 55.5\n",
      "P3fwd 65.5\n",
      "P3rev 58.0\n"
     ]
    }
   ],
   "source": [
    "primers = \"\"\"\\\n",
    "P1fwd\t AGCGGATAACAATTTCACACAGGA\t\n",
    "P1rev\t GTAAAACGACGGCCAGT\t\n",
    "pBeta\t AGCGGATAACAATTTCAC\t\n",
    "P3fwd\t AGCGGATAAGGGCAATTTCAC\t\n",
    "P3rev\t GTAAAACGACGGCCA\"\"\"\n",
    "\n",
    "for name, primer in [s.split() for s in primers.splitlines()]:\n",
    "    tm = mt.Tm_NN( primer,\n",
    "                   nn_table=mt.DNA_NN4,\n",
    "                   Na=50,\n",
    "                   Tris=75.0,\n",
    "                   Mg=1.5,\n",
    "                   dnac1=500, \n",
    "                   dnac2=500, \n",
    "                   dNTPs=0.8, \n",
    "                   saltcorr=7)\n",
    "    print(name, f\"{tm:.1f}\")"
   ]
  },
  {
   "cell_type": "markdown",
   "metadata": {},
   "source": [
    "The second case gives:"
   ]
  },
  {
   "cell_type": "code",
   "execution_count": 15,
   "metadata": {},
   "outputs": [
    {
     "name": "stdout",
     "output_type": "stream",
     "text": [
      "P1fwd 65.7\n",
      "P1rev 60.1\n",
      "pBeta 55.5\n",
      "P3fwd 64.1\n",
      "P3rev 56.2\n"
     ]
    }
   ],
   "source": [
    "primers = \"\"\"\\\n",
    "P1fwd\t AGCGGATAACAATTTCACACAGGA\t\n",
    "P1rev\t GTAAAACGACGGCCAGT\t\n",
    "pBeta\t AGCGGATAACAATTTCAC\t\n",
    "P3fwd\t AGCGGATAAGGGCAATTTCAC\t\n",
    "P3rev\t GTAAAACGACGGCCA\"\"\"\n",
    "\n",
    "for name, primer in [s.split() for s in primers.splitlines()]:\n",
    "    tm = mt.Tm_NN( primer,\n",
    "                   nn_table=mt.DNA_NN3,\n",
    "                   Na=50,\n",
    "                   Tris=75.0,\n",
    "                   Mg=1.5,\n",
    "                   dnac1=500, \n",
    "                   dnac2=500, \n",
    "                   dNTPs=0.8, \n",
    "                   saltcorr=4)\n",
    "    print(name, f\"{tm:.1f}\")"
   ]
  },
  {
   "cell_type": "markdown",
   "metadata": {},
   "source": [
    "The second case above seems to be a better match. Saltcorrection 4 is the one described by SantaLucia (1998). ThermoFisher makes no reference to this paper afaik.\n",
    "The code below generate a number of random primers for both calculators in order to test a wider selection of primers."
   ]
  },
  {
   "cell_type": "code",
   "execution_count": 16,
   "metadata": {},
   "outputs": [],
   "source": [
    "# import random\n",
    "# def randomDNA(size=20, gc=0.5):\n",
    "#     weights = [gc/2,gc/2,(1-gc)/2,(1-gc)/2]\n",
    "#     return \"\".join( random.choices((\"G\",\"C\",\"A\",\"T\"),weights=weights, k=size) )\n",
    "\n",
    "# primers = []\n",
    "# tms = []\n",
    "\n",
    "# for i in range(100):\n",
    "#     fp = randomDNA(18)\n",
    "#     rp = randomDNA(18)\n",
    "#     primers.append((fp,rp))\n",
    "\n",
    "# for i,(fp,rp) in enumerate(primers):    \n",
    "#     print(f\"fp{i}\", \";\",fp,\";\",f\"rp{i}\",\";\",rp)"
   ]
  },
  {
   "cell_type": "code",
   "execution_count": 46,
   "metadata": {},
   "outputs": [],
   "source": [
    "import pandas as pd"
   ]
  },
  {
   "cell_type": "code",
   "execution_count": 60,
   "metadata": {},
   "outputs": [
    {
     "data": {
      "text/html": [
       "<div>\n",
       "<style scoped>\n",
       "    .dataframe tbody tr th:only-of-type {\n",
       "        vertical-align: middle;\n",
       "    }\n",
       "\n",
       "    .dataframe tbody tr th {\n",
       "        vertical-align: top;\n",
       "    }\n",
       "\n",
       "    .dataframe thead th {\n",
       "        text-align: right;\n",
       "    }\n",
       "</style>\n",
       "<table border=\"1\" class=\"dataframe\">\n",
       "  <thead>\n",
       "    <tr style=\"text-align: right;\">\n",
       "      <th></th>\n",
       "      <th>pr</th>\n",
       "      <th>seq</th>\n",
       "      <th>Tm</th>\n",
       "      <th>Ta</th>\n",
       "      <th>comment</th>\n",
       "    </tr>\n",
       "  </thead>\n",
       "  <tbody>\n",
       "    <tr>\n",
       "      <th>0</th>\n",
       "      <td>fp0</td>\n",
       "      <td>CCCTCTCTTTTGGATGTA</td>\n",
       "      <td>52</td>\n",
       "      <td>56</td>\n",
       "      <td>OK--Tm difference is greater than the recommen...</td>\n",
       "    </tr>\n",
       "    <tr>\n",
       "      <th>1</th>\n",
       "      <td>rp0</td>\n",
       "      <td>AAACCCGGATAGCACGGC</td>\n",
       "      <td>62</td>\n",
       "      <td>56</td>\n",
       "      <td>OK--Tm difference is greater than the recommen...</td>\n",
       "    </tr>\n",
       "    <tr>\n",
       "      <th>2</th>\n",
       "      <td>fp1</td>\n",
       "      <td>GGCATACCACTCTAGAGC</td>\n",
       "      <td>56</td>\n",
       "      <td>60</td>\n",
       "      <td>OK--Tm difference is greater than the recommen...</td>\n",
       "    </tr>\n",
       "    <tr>\n",
       "      <th>3</th>\n",
       "      <td>rp1</td>\n",
       "      <td>GACGCCCCCCTACGGCTA</td>\n",
       "      <td>66</td>\n",
       "      <td>60</td>\n",
       "      <td>OK--Tm difference is greater than the recommen...</td>\n",
       "    </tr>\n",
       "    <tr>\n",
       "      <th>4</th>\n",
       "      <td>fp2</td>\n",
       "      <td>GGAGAGCGAGCGCGCTCA</td>\n",
       "      <td>67</td>\n",
       "      <td>61</td>\n",
       "      <td>OK--Tm difference is greater than the recommen...</td>\n",
       "    </tr>\n",
       "    <tr>\n",
       "      <th>...</th>\n",
       "      <td>...</td>\n",
       "      <td>...</td>\n",
       "      <td>...</td>\n",
       "      <td>...</td>\n",
       "      <td>...</td>\n",
       "    </tr>\n",
       "    <tr>\n",
       "      <th>195</th>\n",
       "      <td>rp97</td>\n",
       "      <td>GGAAATTAATTGCTAACT</td>\n",
       "      <td>46</td>\n",
       "      <td>50</td>\n",
       "      <td>OK</td>\n",
       "    </tr>\n",
       "    <tr>\n",
       "      <th>196</th>\n",
       "      <td>fp98</td>\n",
       "      <td>GTACAAGGCAAACCGGTG</td>\n",
       "      <td>58</td>\n",
       "      <td>61</td>\n",
       "      <td>OK</td>\n",
       "    </tr>\n",
       "    <tr>\n",
       "      <th>197</th>\n",
       "      <td>rp98</td>\n",
       "      <td>TGGACCCCTGTCTCACGT</td>\n",
       "      <td>62</td>\n",
       "      <td>61</td>\n",
       "      <td>OK</td>\n",
       "    </tr>\n",
       "    <tr>\n",
       "      <th>198</th>\n",
       "      <td>fp99</td>\n",
       "      <td>ACAACTAAGACTCTAGGA</td>\n",
       "      <td>50</td>\n",
       "      <td>54</td>\n",
       "      <td>OK</td>\n",
       "    </tr>\n",
       "    <tr>\n",
       "      <th>199</th>\n",
       "      <td>rp99</td>\n",
       "      <td>TAAACCATAATCACGACT</td>\n",
       "      <td>50</td>\n",
       "      <td>54</td>\n",
       "      <td>OK</td>\n",
       "    </tr>\n",
       "  </tbody>\n",
       "</table>\n",
       "<p>200 rows × 5 columns</p>\n",
       "</div>"
      ],
      "text/plain": [
       "         pr                   seq  Tm  Ta  \\\n",
       "0      fp0    CCCTCTCTTTTGGATGTA   52  56   \n",
       "1      rp0     AAACCCGGATAGCACGGC  62  56   \n",
       "2      fp1    GGCATACCACTCTAGAGC   56  60   \n",
       "3      rp1     GACGCCCCCCTACGGCTA  66  60   \n",
       "4      fp2    GGAGAGCGAGCGCGCTCA   67  61   \n",
       "..      ...                   ...  ..  ..   \n",
       "195   rp97     GGAAATTAATTGCTAACT  46  50   \n",
       "196   fp98    GTACAAGGCAAACCGGTG   58  61   \n",
       "197   rp98     TGGACCCCTGTCTCACGT  62  61   \n",
       "198   fp99    ACAACTAAGACTCTAGGA   50  54   \n",
       "199   rp99     TAAACCATAATCACGACT  50  54   \n",
       "\n",
       "                                               comment  \n",
       "0    OK--Tm difference is greater than the recommen...  \n",
       "1    OK--Tm difference is greater than the recommen...  \n",
       "2    OK--Tm difference is greater than the recommen...  \n",
       "3    OK--Tm difference is greater than the recommen...  \n",
       "4    OK--Tm difference is greater than the recommen...  \n",
       "..                                                 ...  \n",
       "195                                                 OK  \n",
       "196                                                 OK  \n",
       "197                                                 OK  \n",
       "198                                                 OK  \n",
       "199                                                 OK  \n",
       "\n",
       "[200 rows x 5 columns]"
      ]
     },
     "execution_count": 60,
     "metadata": {},
     "output_type": "execute_result"
    }
   ],
   "source": [
    "NEB = pd.read_csv(\"tmcalc_batch.txt\", names=(\"pr\",\"seq\",\"Tm\",\"Ta\", \"comment\"), sep=\"\\t\")\n",
    "NEB"
   ]
  },
  {
   "cell_type": "code",
   "execution_count": 63,
   "metadata": {},
   "outputs": [],
   "source": [
    "primers = [p.strip() for p in NEB[\"seq\"] ]"
   ]
  },
  {
   "cell_type": "code",
   "execution_count": 70,
   "metadata": {},
   "outputs": [
    {
     "data": {
      "text/plain": [
       "'TAAACCATAATCACGACT'"
      ]
     },
     "execution_count": 70,
     "metadata": {},
     "output_type": "execute_result"
    }
   ],
   "source": [
    "primers[199]"
   ]
  },
  {
   "cell_type": "code",
   "execution_count": 66,
   "metadata": {},
   "outputs": [],
   "source": [
    "NEB[\"Tm bp\"] = [Tm_NEB(p) for p in primers]"
   ]
  },
  {
   "cell_type": "code",
   "execution_count": 71,
   "metadata": {},
   "outputs": [
    {
     "data": {
      "text/html": [
       "<div>\n",
       "<style scoped>\n",
       "    .dataframe tbody tr th:only-of-type {\n",
       "        vertical-align: middle;\n",
       "    }\n",
       "\n",
       "    .dataframe tbody tr th {\n",
       "        vertical-align: top;\n",
       "    }\n",
       "\n",
       "    .dataframe thead th {\n",
       "        text-align: right;\n",
       "    }\n",
       "</style>\n",
       "<table border=\"1\" class=\"dataframe\">\n",
       "  <thead>\n",
       "    <tr style=\"text-align: right;\">\n",
       "      <th></th>\n",
       "      <th>pr</th>\n",
       "      <th>seq</th>\n",
       "      <th>Tm</th>\n",
       "      <th>Ta</th>\n",
       "      <th>comment</th>\n",
       "      <th>Tm bp</th>\n",
       "    </tr>\n",
       "  </thead>\n",
       "  <tbody>\n",
       "    <tr>\n",
       "      <th>0</th>\n",
       "      <td>fp0</td>\n",
       "      <td>CCCTCTCTTTTGGATGTA</td>\n",
       "      <td>52</td>\n",
       "      <td>56</td>\n",
       "      <td>OK--Tm difference is greater than the recommen...</td>\n",
       "      <td>52.352262</td>\n",
       "    </tr>\n",
       "    <tr>\n",
       "      <th>1</th>\n",
       "      <td>rp0</td>\n",
       "      <td>AAACCCGGATAGCACGGC</td>\n",
       "      <td>62</td>\n",
       "      <td>56</td>\n",
       "      <td>OK--Tm difference is greater than the recommen...</td>\n",
       "      <td>62.160485</td>\n",
       "    </tr>\n",
       "    <tr>\n",
       "      <th>2</th>\n",
       "      <td>fp1</td>\n",
       "      <td>GGCATACCACTCTAGAGC</td>\n",
       "      <td>56</td>\n",
       "      <td>60</td>\n",
       "      <td>OK--Tm difference is greater than the recommen...</td>\n",
       "      <td>55.678827</td>\n",
       "    </tr>\n",
       "    <tr>\n",
       "      <th>3</th>\n",
       "      <td>rp1</td>\n",
       "      <td>GACGCCCCCCTACGGCTA</td>\n",
       "      <td>66</td>\n",
       "      <td>60</td>\n",
       "      <td>OK--Tm difference is greater than the recommen...</td>\n",
       "      <td>65.573388</td>\n",
       "    </tr>\n",
       "    <tr>\n",
       "      <th>4</th>\n",
       "      <td>fp2</td>\n",
       "      <td>GGAGAGCGAGCGCGCTCA</td>\n",
       "      <td>67</td>\n",
       "      <td>61</td>\n",
       "      <td>OK--Tm difference is greater than the recommen...</td>\n",
       "      <td>66.858293</td>\n",
       "    </tr>\n",
       "    <tr>\n",
       "      <th>...</th>\n",
       "      <td>...</td>\n",
       "      <td>...</td>\n",
       "      <td>...</td>\n",
       "      <td>...</td>\n",
       "      <td>...</td>\n",
       "      <td>...</td>\n",
       "    </tr>\n",
       "    <tr>\n",
       "      <th>195</th>\n",
       "      <td>rp97</td>\n",
       "      <td>GGAAATTAATTGCTAACT</td>\n",
       "      <td>46</td>\n",
       "      <td>50</td>\n",
       "      <td>OK</td>\n",
       "      <td>46.288047</td>\n",
       "    </tr>\n",
       "    <tr>\n",
       "      <th>196</th>\n",
       "      <td>fp98</td>\n",
       "      <td>GTACAAGGCAAACCGGTG</td>\n",
       "      <td>58</td>\n",
       "      <td>61</td>\n",
       "      <td>OK</td>\n",
       "      <td>58.036084</td>\n",
       "    </tr>\n",
       "    <tr>\n",
       "      <th>197</th>\n",
       "      <td>rp98</td>\n",
       "      <td>TGGACCCCTGTCTCACGT</td>\n",
       "      <td>62</td>\n",
       "      <td>61</td>\n",
       "      <td>OK</td>\n",
       "      <td>62.298849</td>\n",
       "    </tr>\n",
       "    <tr>\n",
       "      <th>198</th>\n",
       "      <td>fp99</td>\n",
       "      <td>ACAACTAAGACTCTAGGA</td>\n",
       "      <td>50</td>\n",
       "      <td>54</td>\n",
       "      <td>OK</td>\n",
       "      <td>50.089144</td>\n",
       "    </tr>\n",
       "    <tr>\n",
       "      <th>199</th>\n",
       "      <td>rp99</td>\n",
       "      <td>TAAACCATAATCACGACT</td>\n",
       "      <td>50</td>\n",
       "      <td>54</td>\n",
       "      <td>OK</td>\n",
       "      <td>49.468513</td>\n",
       "    </tr>\n",
       "  </tbody>\n",
       "</table>\n",
       "<p>200 rows × 6 columns</p>\n",
       "</div>"
      ],
      "text/plain": [
       "         pr                   seq  Tm  Ta  \\\n",
       "0      fp0    CCCTCTCTTTTGGATGTA   52  56   \n",
       "1      rp0     AAACCCGGATAGCACGGC  62  56   \n",
       "2      fp1    GGCATACCACTCTAGAGC   56  60   \n",
       "3      rp1     GACGCCCCCCTACGGCTA  66  60   \n",
       "4      fp2    GGAGAGCGAGCGCGCTCA   67  61   \n",
       "..      ...                   ...  ..  ..   \n",
       "195   rp97     GGAAATTAATTGCTAACT  46  50   \n",
       "196   fp98    GTACAAGGCAAACCGGTG   58  61   \n",
       "197   rp98     TGGACCCCTGTCTCACGT  62  61   \n",
       "198   fp99    ACAACTAAGACTCTAGGA   50  54   \n",
       "199   rp99     TAAACCATAATCACGACT  50  54   \n",
       "\n",
       "                                               comment      Tm bp  \n",
       "0    OK--Tm difference is greater than the recommen...  52.352262  \n",
       "1    OK--Tm difference is greater than the recommen...  62.160485  \n",
       "2    OK--Tm difference is greater than the recommen...  55.678827  \n",
       "3    OK--Tm difference is greater than the recommen...  65.573388  \n",
       "4    OK--Tm difference is greater than the recommen...  66.858293  \n",
       "..                                                 ...        ...  \n",
       "195                                                 OK  46.288047  \n",
       "196                                                 OK  58.036084  \n",
       "197                                                 OK  62.298849  \n",
       "198                                                 OK  50.089144  \n",
       "199                                                 OK  49.468513  \n",
       "\n",
       "[200 rows x 6 columns]"
      ]
     },
     "execution_count": 71,
     "metadata": {},
     "output_type": "execute_result"
    }
   ],
   "source": [
    "NEB"
   ]
  },
  {
   "cell_type": "code",
   "execution_count": 72,
   "metadata": {},
   "outputs": [],
   "source": [
    "# https://stackoverflow.com/questions/312443/how-do-you-split-a-list-into-evenly-sized-chunks\n",
    "from itertools import zip_longest\n",
    "primer_pairs = list( zip_longest(*[iter(primers)]*2) )"
   ]
  },
  {
   "cell_type": "code",
   "execution_count": 73,
   "metadata": {},
   "outputs": [],
   "source": [
    "tas = [Ta_NEB(f,r) for f,r in primer_pairs]"
   ]
  },
  {
   "cell_type": "code",
   "execution_count": 74,
   "metadata": {},
   "outputs": [],
   "source": [
    "tas_twice = []\n",
    "for ta in tas:\n",
    "    tas_twice.append(ta)\n",
    "    tas_twice.append(ta)"
   ]
  },
  {
   "cell_type": "code",
   "execution_count": 75,
   "metadata": {},
   "outputs": [],
   "source": [
    "NEB[\"Ta bp\"] = tas_twice"
   ]
  },
  {
   "cell_type": "code",
   "execution_count": 76,
   "metadata": {},
   "outputs": [
    {
     "data": {
      "text/html": [
       "<div>\n",
       "<style scoped>\n",
       "    .dataframe tbody tr th:only-of-type {\n",
       "        vertical-align: middle;\n",
       "    }\n",
       "\n",
       "    .dataframe tbody tr th {\n",
       "        vertical-align: top;\n",
       "    }\n",
       "\n",
       "    .dataframe thead th {\n",
       "        text-align: right;\n",
       "    }\n",
       "</style>\n",
       "<table border=\"1\" class=\"dataframe\">\n",
       "  <thead>\n",
       "    <tr style=\"text-align: right;\">\n",
       "      <th></th>\n",
       "      <th>pr</th>\n",
       "      <th>seq</th>\n",
       "      <th>Tm</th>\n",
       "      <th>Ta</th>\n",
       "      <th>comment</th>\n",
       "      <th>Tm bp</th>\n",
       "      <th>Ta bp</th>\n",
       "    </tr>\n",
       "  </thead>\n",
       "  <tbody>\n",
       "    <tr>\n",
       "      <th>0</th>\n",
       "      <td>fp0</td>\n",
       "      <td>CCCTCTCTTTTGGATGTA</td>\n",
       "      <td>52</td>\n",
       "      <td>56</td>\n",
       "      <td>OK--Tm difference is greater than the recommen...</td>\n",
       "      <td>52.352262</td>\n",
       "      <td>55.352262</td>\n",
       "    </tr>\n",
       "    <tr>\n",
       "      <th>1</th>\n",
       "      <td>rp0</td>\n",
       "      <td>AAACCCGGATAGCACGGC</td>\n",
       "      <td>62</td>\n",
       "      <td>56</td>\n",
       "      <td>OK--Tm difference is greater than the recommen...</td>\n",
       "      <td>62.160485</td>\n",
       "      <td>55.352262</td>\n",
       "    </tr>\n",
       "    <tr>\n",
       "      <th>2</th>\n",
       "      <td>fp1</td>\n",
       "      <td>GGCATACCACTCTAGAGC</td>\n",
       "      <td>56</td>\n",
       "      <td>60</td>\n",
       "      <td>OK--Tm difference is greater than the recommen...</td>\n",
       "      <td>55.678827</td>\n",
       "      <td>58.678827</td>\n",
       "    </tr>\n",
       "    <tr>\n",
       "      <th>3</th>\n",
       "      <td>rp1</td>\n",
       "      <td>GACGCCCCCCTACGGCTA</td>\n",
       "      <td>66</td>\n",
       "      <td>60</td>\n",
       "      <td>OK--Tm difference is greater than the recommen...</td>\n",
       "      <td>65.573388</td>\n",
       "      <td>58.678827</td>\n",
       "    </tr>\n",
       "    <tr>\n",
       "      <th>4</th>\n",
       "      <td>fp2</td>\n",
       "      <td>GGAGAGCGAGCGCGCTCA</td>\n",
       "      <td>67</td>\n",
       "      <td>61</td>\n",
       "      <td>OK--Tm difference is greater than the recommen...</td>\n",
       "      <td>66.858293</td>\n",
       "      <td>60.676873</td>\n",
       "    </tr>\n",
       "    <tr>\n",
       "      <th>...</th>\n",
       "      <td>...</td>\n",
       "      <td>...</td>\n",
       "      <td>...</td>\n",
       "      <td>...</td>\n",
       "      <td>...</td>\n",
       "      <td>...</td>\n",
       "      <td>...</td>\n",
       "    </tr>\n",
       "    <tr>\n",
       "      <th>195</th>\n",
       "      <td>rp97</td>\n",
       "      <td>GGAAATTAATTGCTAACT</td>\n",
       "      <td>46</td>\n",
       "      <td>50</td>\n",
       "      <td>OK</td>\n",
       "      <td>46.288047</td>\n",
       "      <td>49.288047</td>\n",
       "    </tr>\n",
       "    <tr>\n",
       "      <th>196</th>\n",
       "      <td>fp98</td>\n",
       "      <td>GTACAAGGCAAACCGGTG</td>\n",
       "      <td>58</td>\n",
       "      <td>61</td>\n",
       "      <td>OK</td>\n",
       "      <td>58.036084</td>\n",
       "      <td>61.036084</td>\n",
       "    </tr>\n",
       "    <tr>\n",
       "      <th>197</th>\n",
       "      <td>rp98</td>\n",
       "      <td>TGGACCCCTGTCTCACGT</td>\n",
       "      <td>62</td>\n",
       "      <td>61</td>\n",
       "      <td>OK</td>\n",
       "      <td>62.298849</td>\n",
       "      <td>61.036084</td>\n",
       "    </tr>\n",
       "    <tr>\n",
       "      <th>198</th>\n",
       "      <td>fp99</td>\n",
       "      <td>ACAACTAAGACTCTAGGA</td>\n",
       "      <td>50</td>\n",
       "      <td>54</td>\n",
       "      <td>OK</td>\n",
       "      <td>50.089144</td>\n",
       "      <td>52.468513</td>\n",
       "    </tr>\n",
       "    <tr>\n",
       "      <th>199</th>\n",
       "      <td>rp99</td>\n",
       "      <td>TAAACCATAATCACGACT</td>\n",
       "      <td>50</td>\n",
       "      <td>54</td>\n",
       "      <td>OK</td>\n",
       "      <td>49.468513</td>\n",
       "      <td>52.468513</td>\n",
       "    </tr>\n",
       "  </tbody>\n",
       "</table>\n",
       "<p>200 rows × 7 columns</p>\n",
       "</div>"
      ],
      "text/plain": [
       "         pr                   seq  Tm  Ta  \\\n",
       "0      fp0    CCCTCTCTTTTGGATGTA   52  56   \n",
       "1      rp0     AAACCCGGATAGCACGGC  62  56   \n",
       "2      fp1    GGCATACCACTCTAGAGC   56  60   \n",
       "3      rp1     GACGCCCCCCTACGGCTA  66  60   \n",
       "4      fp2    GGAGAGCGAGCGCGCTCA   67  61   \n",
       "..      ...                   ...  ..  ..   \n",
       "195   rp97     GGAAATTAATTGCTAACT  46  50   \n",
       "196   fp98    GTACAAGGCAAACCGGTG   58  61   \n",
       "197   rp98     TGGACCCCTGTCTCACGT  62  61   \n",
       "198   fp99    ACAACTAAGACTCTAGGA   50  54   \n",
       "199   rp99     TAAACCATAATCACGACT  50  54   \n",
       "\n",
       "                                               comment      Tm bp      Ta bp  \n",
       "0    OK--Tm difference is greater than the recommen...  52.352262  55.352262  \n",
       "1    OK--Tm difference is greater than the recommen...  62.160485  55.352262  \n",
       "2    OK--Tm difference is greater than the recommen...  55.678827  58.678827  \n",
       "3    OK--Tm difference is greater than the recommen...  65.573388  58.678827  \n",
       "4    OK--Tm difference is greater than the recommen...  66.858293  60.676873  \n",
       "..                                                 ...        ...        ...  \n",
       "195                                                 OK  46.288047  49.288047  \n",
       "196                                                 OK  58.036084  61.036084  \n",
       "197                                                 OK  62.298849  61.036084  \n",
       "198                                                 OK  50.089144  52.468513  \n",
       "199                                                 OK  49.468513  52.468513  \n",
       "\n",
       "[200 rows x 7 columns]"
      ]
     },
     "execution_count": 76,
     "metadata": {},
     "output_type": "execute_result"
    }
   ],
   "source": [
    "NEB"
   ]
  },
  {
   "cell_type": "code",
   "execution_count": 78,
   "metadata": {},
   "outputs": [
    {
     "data": {
      "text/plain": [
       "<matplotlib.axes._subplots.AxesSubplot at 0x7f1a234ae748>"
      ]
     },
     "execution_count": 78,
     "metadata": {},
     "output_type": "execute_result"
    },
    {
     "data": {
      "image/png": "[encoded data removed]",
      "text/plain": [
       "<Figure size 432x288 with 1 Axes>"
      ]
     },
     "metadata": {
      "needs_background": "light"
     },
     "output_type": "display_data"
    }
   ],
   "source": [
    "NEB.plot(x='Tm', y='Tm bp', style='.')"
   ]
  },
  {
   "cell_type": "code",
   "execution_count": 79,
   "metadata": {},
   "outputs": [
    {
     "data": {
      "text/plain": [
       "<matplotlib.axes._subplots.AxesSubplot at 0x7f1a23442a90>"
      ]
     },
     "execution_count": 79,
     "metadata": {},
     "output_type": "execute_result"
    },
    {
     "data": {
      "image/png": "[encoded data removed]",
      "text/plain": [
       "<Figure size 432x288 with 1 Axes>"
      ]
     },
     "metadata": {
      "needs_background": "light"
     },
     "output_type": "display_data"
    }
   ],
   "source": [
    "NEB.plot(x='Ta', y='Ta bp', style='.')"
   ]
  },
  {
   "cell_type": "code",
   "execution_count": null,
   "metadata": {},
   "outputs": [],
   "source": []
  }
 ],
 "metadata": {
  "anaconda-cloud": {},
  "kernelspec": {
   "display_name": "Python [conda env:bjorn37]",
   "language": "python",
   "name": "conda-env-bjorn37-py"
  },
  "language_info": {
   "codemirror_mode": {
    "name": "ipython",
    "version": 3
   },
   "file_extension": ".py",
   "mimetype": "text/x-python",
   "name": "python",
   "nbconvert_exporter": "python",
   "pygments_lexer": "ipython3",
   "version": "3.7.3"
  }
 },
 "nbformat": 4,
 "nbformat_minor": 4
}
