{
 "cells": [
  {
   "cell_type": "markdown",
   "metadata": {},
   "source": [
    "### Tm calculations for polymerases with a DNA binding domain such as Phusion\n",
    "\n",
    "The Phusion DNA polymerase is a processive version of the Pfu DNA polymerase. \n",
    "The enzyme was engineered with a DNA binding domain that tends to stabilize DNA, so\n",
    "a higher annealing temperature is needed compared to other polymerases such as Taq.\n",
    "\n",
    "Phusion was first developed and marketed by Finnzyme, and they provided a Tm calculator applet that \n",
    "is no longer available.\n",
    "\n",
    "This applet was written in Java and I decompiled the code and translated into python as the pydna.tm.tmbresluc.\n",
    "I unfortunately do not have the source code anymore, but I remember verifying that results were identical.\n",
    "\n",
    "The Finnzyme calculator (and the pydna.tm.tmbresluc function) give a Tm that is quite high.\n",
    "Phusion is now marketed by Thermofisher Scientific (TFS) and NEB and each provide their \n",
    "own Tm calculator:\n",
    "\n",
    "[Thermofisher Tm](https://www.thermofisher.com/pt/en/home/brands/thermo-scientific/molecular-biology/molecular-biology-learning-center/molecular-biology-resource-library/thermo-scientific-web-tools/tm-calculator.html)\n",
    "\n",
    "[NEB Tm](https://tmcalculator.neb.com)\n",
    "\n",
    "These calculators give different values for the same primers and the same settings which are also different from\n",
    "pydna.tm.tmbresluc and presumably the Finnzyme calculator.\n",
    "\n",
    "These five primers are used as example for the NEB Tm calculator:\n",
    "\n",
    "| Name  | Sequence                 | TFS  | NEB | pydna tmbresluc |\n",
    "|-------|--------------------------|------|-----|-------------|\n",
    "| P1fwd | AGCGGATAACAATTTCACACAGGA | 65.7 | 62  | 64.3        |\n",
    "| P1rev | GTAAAACGACGGCCAGT        | 60.2 | 57  | 55.1        |\n",
    "| pBeta | AGCGGATAACAATTTCAC       | 55.9 | 52  | 51.6        |\n",
    "| P3fwd | AGCGGATAAGGGCAATTTCAC    | 64.1 | 61  | 62.9        |\n",
    "| P3rev | GTAAAACGACGGCCA          | 56.4 | 53  | 52.4        |\n",
    "\n",
    "[TFS Calculator result](Tm-Calculator_Thermo-Fisher-Scientific-PT.pdf)\n",
    "\n",
    "[NEB Calculator result](NEB-Tm-Calculator.pdf)"
   ]
  },
  {
   "cell_type": "code",
   "execution_count": 6,
   "metadata": {},
   "outputs": [
    {
     "name": "stdout",
     "output_type": "stream",
     "text": [
      "59.62435529786579\n",
      "53.76249714741526\n",
      "49.23347605632004\n",
      "57.929629988766564\n",
      "49.69451074604375\n"
     ]
    }
   ],
   "source": [
    "from pydna.tm import tm_dbd, tmbresluc\n",
    "\n",
    "primers = \"\"\"\\\n",
    "AGCGGATAACAATTTCACACAGGA\n",
    "GTAAAACGACGGCCAGT\n",
    "AGCGGATAACAATTTCAC\n",
    "AGCGGATAAGGGCAATTTCAC\n",
    "GTAAAACGACGGCCA\n",
    "\"\"\".splitlines()\n",
    "\n",
    "for p in primers:\n",
    "    print(tm_dbd(p))"
   ]
  },
  {
   "cell_type": "code",
   "execution_count": null,
   "metadata": {},
   "outputs": [],
   "source": [
    "from Bio.SeqUtils import MeltingTemp as mt"
   ]
  },
  {
   "cell_type": "markdown",
   "metadata": {},
   "source": [
    "Biopython offers a [wide range of Tm formulas](https://biopython.org/DIST/docs/api/Bio.SeqUtils.MeltingTemp-module.html) and I will try to recreate the results of the TFS and NEB calculators using Biopython.\n",
    "\n",
    "Unfortunatley, the descriptions provided by the companies is not enough to positively know how the \n",
    "calculations were done. For this reason I will loop through the most important settings provided by Biopython\n",
    "to see if there is a match or at least a close match.\n",
    "\n",
    "The primer concentrations were set to 500 nM and the Mg2+ to 1.5 mM as provided by the HF buffer ([description](MAN0013369_Phusion_HF_Buffer_Pack_UG.pdf)). \n",
    "\n",
    "\n",
    "There are seven different salt correction formulas \n",
    "\n",
    "       1. 16.6 x log[Na+]\n",
    "          (Schildkraut & Lifson (1965), Biopolymers 3: 195-208)\n",
    "       2. 16.6 x log([Na+]/(1.0 + 0.7*[Na+]))\n",
    "          (Wetmur (1991), Crit Rev Biochem Mol Biol 126: 227-259)\n",
    "       3. 12.5 x log(Na+]\n",
    "          (SantaLucia et al. (1996), Biochemistry 35: 3555-3562\n",
    "       4. 11.7 x log[Na+]\n",
    "          (SantaLucia (1998), Proc Natl Acad Sci USA 95: 1460-1465\n",
    "       5. Correction for deltaS: 0.368 x (N-1) x ln[Na+]\n",
    "          (SantaLucia (1998), Proc Natl Acad Sci USA 95: 1460-1465)\n",
    "       6. (4.29(%GC)-3.95)x1e-5 x ln[Na+] + 9.40e-6 x ln[Na+]^2\n",
    "          (Owczarzy et al. (2004), Biochemistry 43: 3537-3554)\n",
    "       7. Complex formula with decision tree and 7 empirical constants.\n",
    "          Mg2+ is corrected for dNTPs binding (if present)\n",
    "          (Owczarzy et al. (2008), Biochemistry 47: 5336-5353)\n",
    "\n",
    "\n",
    "and four different tables with nearest neighbor thermodynamic data.\n",
    "\n",
    "        - DNA_NN1: values from Breslauer et al. (1986)\n",
    "        - DNA_NN2: values from Sugimoto et al. (1996)\n",
    "        - DNA_NN3: values from Allawi & SantaLucia (1997) (default)\n",
    "        - DNA_NN4: values from SantaLucia & Hicks (2004)\n",
    "\n",
    "The dnac1 and 2 were set to 500 nM and Mg to 1.5 mM\n",
    "\n",
    "The primer sequence is the P1fwd (see above)."
   ]
  },
  {
   "cell_type": "code",
   "execution_count": null,
   "metadata": {},
   "outputs": [],
   "source": [
    "from itertools import cycle\n",
    "\n",
    "tables = cycle(['DNA_NN1', 'DNA_NN2', 'DNA_NN3', 'DNA_NN4'])\n",
    "\n",
    "tms=[]\n",
    "for saltcorr in [1,2,3,4,5,6,7]:\n",
    "    print(\"saltcorrection\", saltcorr)\n",
    "    for nn_table in [mt.DNA_NN1,mt.DNA_NN2,mt.DNA_NN3,mt.DNA_NN4]:\n",
    "        print( next(tables),   mt.Tm_NN( \"AGCGGATAACAATTTCACACAGGA\", # P1fwd\n",
    "                               nn_table=nn_table,\n",
    "                               Na=50,\n",
    "                               Tris=75.0,\n",
    "                               Mg=1.5, \n",
    "                               dnac1=500, \n",
    "                               dnac2=500, \n",
    "                               dNTPs=0.8, \n",
    "                               saltcorr=saltcorr))\n",
    "    print()"
   ]
  },
  {
   "cell_type": "markdown",
   "metadata": {},
   "source": [
    "The third value above is 62.12795214651103 (saltcorrection 1 & DNA_NN3) is the closest to 62 which is the value for this primer by NEB Tm.\n",
    "In the cell below, this setting is tested for all the previously listed primers. "
   ]
  },
  {
   "cell_type": "code",
   "execution_count": null,
   "metadata": {},
   "outputs": [],
   "source": [
    "primers = \"\"\"\\\n",
    "P1fwd\t AGCGGATAACAATTTCACACAGGA\t\n",
    "P1rev\t GTAAAACGACGGCCAGT\t\n",
    "pBeta\t AGCGGATAACAATTTCAC\t\n",
    "P3fwd\t AGCGGATAAGGGCAATTTCAC\t\n",
    "P3rev\t GTAAAACGACGGCCA\"\"\"\n",
    "\n",
    "for name, primer in [s.split() for s in primers.splitlines()]:\n",
    "    tm = mt.Tm_NN( primer,\n",
    "                   nn_table=mt.DNA_NN3,\n",
    "                   Na=50,\n",
    "                   Tris=75.0,\n",
    "                   Mg=1.5, \n",
    "                   dnac1=500, \n",
    "                   dnac2=500, \n",
    "                   dNTPs=0.8, \n",
    "                   saltcorr=1)\n",
    "    print(name, f\"{tm:.0f}\")"
   ]
  },
  {
   "cell_type": "markdown",
   "metadata": {},
   "source": [
    "The output is identical to the one given by NEB. Saltcorrection = 1 corresponds to the one by Schildkraut & Lifson that [NEB says that they use](NEB_help.pdf) on their help page.\n",
    "The Ta algorithm shoud then be described by the function below."
   ]
  },
  {
   "cell_type": "code",
   "execution_count": null,
   "metadata": {},
   "outputs": [],
   "source": [
    "def Tm_NEB(primer):\n",
    "    tm = mt.Tm_NN( primer,\n",
    "               nn_table=mt.DNA_NN3,\n",
    "               Na=50,\n",
    "               Tris=75.0,\n",
    "               Mg=1.5, \n",
    "               dnac1=500, \n",
    "               dnac2=500, \n",
    "               dNTPs=0.8, \n",
    "               saltcorr=1)\n",
    "    return tm"
   ]
  },
  {
   "cell_type": "code",
   "execution_count": null,
   "metadata": {},
   "outputs": [],
   "source": [
    "def Ta_NEB(fp,rp):\n",
    "    tms = []\n",
    "    for primer in [fp,rp]:\n",
    "        tms.append(Tm_NEB(primer))\n",
    "    tm = min(tms) + 3.0\n",
    "    return tm if tm<72 else 72\n",
    "\n",
    "round(Ta_NEB(\"AGCGGATAACAATTTCACACAGGA\",\"GTAAAACGACGGCCAGT\")) # P1fwd + P1rev"
   ]
  },
  {
   "cell_type": "markdown",
   "metadata": {},
   "source": [
    "The TFS calculator value for P1fwd AGCGGATAACAATTTCACACAGGA (65.7) corresponds best to the value for saltcorrection 7 & DNA_NN4 = 65.74120743229503 but also for saltcorrection 4 & DNA_NN3= 65.68571994829779. The first case gives:"
   ]
  },
  {
   "cell_type": "code",
   "execution_count": null,
   "metadata": {},
   "outputs": [],
   "source": [
    "primers = \"\"\"\\\n",
    "P1fwd\t AGCGGATAACAATTTCACACAGGA\t\n",
    "P1rev\t GTAAAACGACGGCCAGT\t\n",
    "pBeta\t AGCGGATAACAATTTCAC\t\n",
    "P3fwd\t AGCGGATAAGGGCAATTTCAC\t\n",
    "P3rev\t GTAAAACGACGGCCA\"\"\"\n",
    "\n",
    "for name, primer in [s.split() for s in primers.splitlines()]:\n",
    "    tm = mt.Tm_NN( primer,\n",
    "                   nn_table=mt.DNA_NN4,\n",
    "                   Na=50,\n",
    "                   Tris=75.0,\n",
    "                   Mg=1.5,\n",
    "                   dnac1=500, \n",
    "                   dnac2=500, \n",
    "                   dNTPs=0.8, \n",
    "                   saltcorr=7)\n",
    "    print(name, f\"{tm:.1f}\")"
   ]
  },
  {
   "cell_type": "markdown",
   "metadata": {},
   "source": [
    "The second case gives:"
   ]
  },
  {
   "cell_type": "code",
   "execution_count": null,
   "metadata": {},
   "outputs": [],
   "source": [
    "primers = \"\"\"\\\n",
    "P1fwd\t AGCGGATAACAATTTCACACAGGA\t\n",
    "P1rev\t GTAAAACGACGGCCAGT\t\n",
    "pBeta\t AGCGGATAACAATTTCAC\t\n",
    "P3fwd\t AGCGGATAAGGGCAATTTCAC\t\n",
    "P3rev\t GTAAAACGACGGCCA\"\"\"\n",
    "\n",
    "for name, primer in [s.split() for s in primers.splitlines()]:\n",
    "    tm = mt.Tm_NN( primer,\n",
    "                   nn_table=mt.DNA_NN3,\n",
    "                   Na=50,\n",
    "                   Tris=75.0,\n",
    "                   Mg=1.5,\n",
    "                   dnac1=500, \n",
    "                   dnac2=500, \n",
    "                   dNTPs=0.8, \n",
    "                   saltcorr=4)\n",
    "    print(name, f\"{tm:.1f}\")"
   ]
  },
  {
   "cell_type": "markdown",
   "metadata": {},
   "source": [
    "The second case above seems to be a better match. Saltcorrection 4 is the one described by SantaLucia (1998). ThermoFisher makes no reference to this paper afaik.\n",
    "The code below generate a number of random primers for both calculators in order to test a wider selection of primers."
   ]
  },
  {
   "cell_type": "code",
   "execution_count": null,
   "metadata": {},
   "outputs": [],
   "source": [
    "# import random\n",
    "# def randomDNA(size=20, gc=0.5):\n",
    "#     weights = [gc/2,gc/2,(1-gc)/2,(1-gc)/2]\n",
    "#     return \"\".join( random.choices((\"G\",\"C\",\"A\",\"T\"),weights=weights, k=size) )\n",
    "\n",
    "# primers = []\n",
    "# tms = []\n",
    "\n",
    "# for i in range(100):\n",
    "#     fp = randomDNA(18)\n",
    "#     rp = randomDNA(18)\n",
    "#     primers.append((fp,rp))\n",
    "\n",
    "# for i,(fp,rp) in enumerate(primers):    \n",
    "#     print(f\"fp{i}\", \";\",fp,\";\",f\"rp{i}\",\";\",rp)"
   ]
  },
  {
   "cell_type": "code",
   "execution_count": null,
   "metadata": {},
   "outputs": [],
   "source": [
    "import pandas as pd"
   ]
  },
  {
   "cell_type": "code",
   "execution_count": null,
   "metadata": {},
   "outputs": [],
   "source": [
    "NEB = pd.read_csv(\"tmcalc_batch.txt\", names=(\"pr\",\"seq\",\"Tm\",\"Ta\", \"comment\"), sep=\"\\t\")\n",
    "NEB"
   ]
  },
  {
   "cell_type": "code",
   "execution_count": null,
   "metadata": {},
   "outputs": [],
   "source": [
    "primers = [p.strip() for p in NEB[\"seq\"] ]"
   ]
  },
  {
   "cell_type": "code",
   "execution_count": null,
   "metadata": {},
   "outputs": [],
   "source": [
    "primers"
   ]
  },
  {
   "cell_type": "code",
   "execution_count": null,
   "metadata": {},
   "outputs": [],
   "source": [
    "primers[199]"
   ]
  },
  {
   "cell_type": "code",
   "execution_count": null,
   "metadata": {},
   "outputs": [],
   "source": [
    "# https://www.geeksforgeeks.org/adding-new-column-to-existing-dataframe-in-pandas\n",
    "NEB[\"Tm bp\"] = [Tm_NEB(p) for p in primers]"
   ]
  },
  {
   "cell_type": "code",
   "execution_count": null,
   "metadata": {},
   "outputs": [],
   "source": [
    "NEB"
   ]
  },
  {
   "cell_type": "code",
   "execution_count": null,
   "metadata": {},
   "outputs": [],
   "source": [
    "# https://stackoverflow.com/questions/312443/how-do-you-split-a-list-into-evenly-sized-chunks\n",
    "from itertools import zip_longest\n",
    "primer_pairs = list( zip_longest(*[iter(primers)]*2) )"
   ]
  },
  {
   "cell_type": "code",
   "execution_count": null,
   "metadata": {},
   "outputs": [],
   "source": [
    "tas = [Ta_NEB(f,r) for f,r in primer_pairs]"
   ]
  },
  {
   "cell_type": "code",
   "execution_count": null,
   "metadata": {},
   "outputs": [],
   "source": [
    "tas_twice = []\n",
    "for ta in tas:\n",
    "    tas_twice.append(ta)\n",
    "    tas_twice.append(ta)"
   ]
  },
  {
   "cell_type": "code",
   "execution_count": null,
   "metadata": {},
   "outputs": [],
   "source": [
    "NEB[\"Ta bp\"] = tas_twice"
   ]
  },
  {
   "cell_type": "code",
   "execution_count": null,
   "metadata": {},
   "outputs": [],
   "source": [
    "NEB"
   ]
  },
  {
   "cell_type": "code",
   "execution_count": null,
   "metadata": {},
   "outputs": [],
   "source": [
    "# https://stackoverflow.com/questions/17812978/how-to-plot-two-columns-of-a-pandas-data-frame-using-points\n",
    "NEB.plot(x='Tm', y='Tm bp', style='.')"
   ]
  },
  {
   "cell_type": "code",
   "execution_count": null,
   "metadata": {},
   "outputs": [],
   "source": [
    "NEB.plot(x='Ta', y='Ta bp', style='.')"
   ]
  },
  {
   "cell_type": "code",
   "execution_count": null,
   "metadata": {},
   "outputs": [],
   "source": []
  }
 ],
 "metadata": {
  "anaconda-cloud": {},
  "kernelspec": {
   "display_name": "Python [conda env:bjorn311]",
   "language": "python",
   "name": "conda-env-bjorn311-py"
  },
  "language_info": {
   "codemirror_mode": {
    "name": "ipython",
    "version": 3
   },
   "file_extension": ".py",
   "mimetype": "text/x-python",
   "name": "python",
   "nbconvert_exporter": "python",
   "pygments_lexer": "ipython3",
   "version": "3.11.8"
  }
 },
 "nbformat": 4,
 "nbformat_minor": 4
}
