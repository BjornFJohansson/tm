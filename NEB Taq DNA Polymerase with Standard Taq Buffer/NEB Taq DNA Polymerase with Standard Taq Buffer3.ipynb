{
 "cells": [
  {
   "attachments": {},
   "cell_type": "markdown",
   "metadata": {},
   "source": [
    "# Emulating NEB Tm Calculator\n",
    "\n",
    "The purpose of this notebook is to attempt to replicate the behaviour of the [NEB Tm Calculator](https://tmcalculator.neb.com/#!/batch) version 1.16.5.\n",
    "\n",
    "The NEB Tm Calculator comes with four default primers. We use these in batch mode with standard Taq polymerase and standard buffer.\n",
    "Standard primer conentration.\n",
    "\n",
    "## Settings:\n",
    "\n",
    "![](settings1.png)\n",
    "\n",
    "## Results:\n",
    "\n",
    "![](settings2.png)\n",
    "\n",
    "The results were extracted to a markdown table:\n"
   ]
  },
  {
   "cell_type": "code",
   "execution_count": 7,
   "metadata": {},
   "outputs": [
    {
     "data": {
      "text/plain": [
       "'1.83'"
      ]
     },
     "execution_count": 7,
     "metadata": {},
     "output_type": "execute_result"
    }
   ],
   "source": [
    "import Bio\n",
    "Bio.__version__"
   ]
  },
  {
   "cell_type": "code",
   "execution_count": 8,
   "metadata": {},
   "outputs": [],
   "source": [
    "primers = \"\"\"\\\n",
    "P1fwd AGCGGATAACAATTTCACACAGGA\n",
    "P1rev GTAAAACGACGGCCAGT\n",
    "P3fwd AGCGGATAAGGGCAATTTCAC\n",
    "P3rev GTAAAACGACGGCCA\n",
    "\"\"\".splitlines()\n",
    "\n",
    "NEBtms = (58, 54, 57, 50) # from NEB Tm Calculator results in image above"
   ]
  },
  {
   "cell_type": "code",
   "execution_count": 9,
   "metadata": {},
   "outputs": [],
   "source": [
    "from Bio.SeqUtils import MeltingTemp as mt"
   ]
  },
  {
   "cell_type": "code",
   "execution_count": 10,
   "metadata": {},
   "outputs": [
    {
     "name": "stdout",
     "output_type": "stream",
     "text": [
      "P1fwd 58 57.614086700105645 -0.3859132998943551\n",
      "P1rev 54 53.96469180796623 -0.03530819203376723\n",
      "P3fwd 57 56.948297500718695 -0.05170249928130488\n",
      "P3rev 50 50.361977364511176 0.36197736451117635\n"
     ]
    }
   ],
   "source": [
    "for p, NEBtm in zip(primers, NEBtms):\n",
    "\n",
    "    name, seq = p.split()\n",
    "    \n",
    "    tm = mt.Tm_NN(p, \n",
    "                  nn_table=mt.DNA_NN3,\n",
    "                  Na=0,          # mM\n",
    "                  K=50,          # mM\n",
    "                  Tris=10,       # mM\n",
    "                  # Mg=1.5,        # mM\n",
    "                  dnac1=200,     # nM\n",
    "                  dnac2=0,       # nM\n",
    "                  dNTPs=0.2*4,   # mM\n",
    "                  saltcorr=7)\n",
    "    \n",
    "    print(name, NEBtm, tm, tm - NEBtm)"
   ]
  },
  {
   "cell_type": "code",
   "execution_count": 23,
   "metadata": {},
   "outputs": [
    {
     "name": "stdout",
     "output_type": "stream",
     "text": [
      "200\n"
     ]
    }
   ],
   "source": [
    "import csv\n",
    "primerlist = []\n",
    "with open('tmcalc_batch.txt', newline='') as csvfile:\n",
    "    neb_file_reader = csv.reader(csvfile, delimiter='\\t')\n",
    "    for row in neb_file_reader:\n",
    "        name, sequence, nebtm, *rest = row\n",
    "        primerlist.append([name, sequence, nebtm])\n",
    "print(len(primerlist))"
   ]
  },
  {
   "cell_type": "code",
   "execution_count": 28,
   "metadata": {},
   "outputs": [
    {
     "name": "stdout",
     "output_type": "stream",
     "text": [
      "﻿p101 AATTAATTTATGTATAAC 32 31\n",
      "p113 GGCTTTTAGACAAACGTA 48 47\n",
      "p119 GAATTTTGGTTTACCGCT 49 48\n",
      "p34 CCCTCCGGTTTAATCTAC 51 50\n",
      "p171 CAACGTAACGCCACAAAC 54 53\n",
      "p52 TTATAGTGAGCCGAGGGC 56 55\n",
      "p132 AGTGCATCCGGTCAGTCG 60 59\n",
      "p143 GGGCAGGAGGGTGGTCCA 66 65\n"
     ]
    }
   ],
   "source": [
    "import math\n",
    "\n",
    "tmlist = []\n",
    "\n",
    "for name, seq, neb in primerlist:\n",
    "    bp = mt.Tm_NN(seq, \n",
    "              nn_table=mt.DNA_NN3,\n",
    "              Na=0,          # mM\n",
    "              K=50,          # mM\n",
    "              Tris=10,       # mM\n",
    "              #Mg=1.5,       # mM\n",
    "              dnac1=200,     # nM\n",
    "              dnac2=0,       # nM\n",
    "              dNTPs=0.2*4,   # mM\n",
    "              saltcorr=7)\n",
    "    tmlist.append((name, int(neb), bp))\n",
    "    if intneb != round(bp):\n",
    "        print(name, seq, neb, round(bp))"
   ]
  },
  {
   "cell_type": "markdown",
   "metadata": {},
   "source": [
    "8/200 primers round to 1C more ore less than the NEB Tm calculator."
   ]
  }
 ],
 "metadata": {
  "anaconda-cloud": {},
  "kernelspec": {
   "display_name": "Python [conda env:bjorn311]",
   "language": "python",
   "name": "conda-env-bjorn311-py"
  },
  "language_info": {
   "codemirror_mode": {
    "name": "ipython",
    "version": 3
   },
   "file_extension": ".py",
   "mimetype": "text/x-python",
   "name": "python",
   "nbconvert_exporter": "python",
   "pygments_lexer": "ipython3",
   "version": "3.11.8"
  }
 },
 "nbformat": 4,
 "nbformat_minor": 4
}
