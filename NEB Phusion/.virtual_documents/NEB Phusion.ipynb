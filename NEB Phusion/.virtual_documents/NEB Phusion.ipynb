


import csv
primerlist = []
with open('tmcalc_batch.txt', newline='') as csvfile:
    neb_file_reader = csv.reader(csvfile, delimiter='\t')
    for row in neb_file_reader:
        name, sequence, nebtm, *rest = row
        primerlist.append([name, sequence, nebtm])
print(len(primerlist))


from Bio.SeqUtils import MeltingTemp as mt
from prettytable import PrettyTable
t = PrettyTable(['Name', 'Sequence', "neb", "bp", "delta"])

for name, primer, nebtm in primerlist:
    # For Phusion, use this settings
    bptm = mt.Tm_NN(
            primer,
            nn_table=mt.DNA_NN3,
            Na=0,  # mM
            K=50,  # mM
            Tris=25,  # mM
            Mg=1.5,
            dnac1=500,  # nM
            dnac2=0,  # nM
            dNTPs=0.8,  # mM
            saltcorr=1,)    
    nebtm = int(nebtm)
    if nebtm != round(bptm):
        if nebtm > round(bptm):
            d = nebtm - 0.5 - bptm
        else:
            d = nebtm + 0.5 - bptm
        t.add_row([name, primer, nebtm, round(bptm, 4), round((abs(d)/bptm), 4)])
print(t)
