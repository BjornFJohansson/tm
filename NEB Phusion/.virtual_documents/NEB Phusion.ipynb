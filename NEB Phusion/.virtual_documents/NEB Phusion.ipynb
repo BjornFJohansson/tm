


from pydna.parsers import parse_primers


primers = parse_primers("""
>P1fwd NEB Tm Calculator=58
AGCGGATAACAATTTCACACAGGA	
>P1rev NEB Tm Calculator=54
GTAAAACGACGGCCAGT	       
>pBeta NEB Tm Calculator=48
AGCGGATAACAATTTCAC
>P3fwd NEB Tm Calculator=57
AGCGGATAAGGGCAATTTCAC	    
>P3rev NEB Tm Calculator=50
GTAAAACGACGGCCA	        
""")


from Bio.SeqUtils import MeltingTemp as mt


table_dict = {
"Breslauer 1986 " :mt.DNA_NN1, 
"Sugimoto 1996" :mt.DNA_NN2, 
"Allawi and SantaLucia 1997" :mt.DNA_NN3, 
"SantaLucia & Hicks 2004" :mt.DNA_NN4,
}


saltcorr_dict = { "Schildkraut 1965":1,
                  "Wetmur 1991":2,
                  "SantaLucia 1996":3,
                  "SantaLucia 1998":4,
                  "SantaLucia 1998 dS":5,
                  "Owczarzy 2004":6,
                  "Owczarzy 2008":7, }


nn_table = table_dict["Allawi and SantaLucia 1997"]
saltcorr = saltcorr_dict["Owczarzy 2004"]

for p in primers:

    tm = mt.Tm_NN(str(p.seq), 
                  nn_table=nn_table,
                  Na=50,         # mM
                  Tris=10,       # mM
                  Mg=1.5,        # mM
                  dnac1=200,     # nM
                  dnac2=0,       # nM
                  dNTPs=200*4,     # mM
                  saltcorr=saltcorr)
    
    print(p.description, f"biopython={round(tm)}   ({tm})")



