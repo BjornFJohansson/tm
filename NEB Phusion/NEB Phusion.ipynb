{
 "cells": [
  {
   "attachments": {},
   "cell_type": "markdown",
   "metadata": {},
   "source": [
    "# Test of the NEB Tm Calculator ([tmcalculator.neb.com](https://tmcalculator.neb.com/#!/batch))\n",
    "\n"
   ]
  },
  {
   "cell_type": "code",
   "execution_count": 10,
   "metadata": {
    "scrolled": true
   },
   "outputs": [
    {
     "name": "stdout",
     "output_type": "stream",
     "text": [
      "200\n"
     ]
    }
   ],
   "source": [
    "import csv\n",
    "primerlist = []\n",
    "with open('tmcalc_batch.txt', newline='') as csvfile:\n",
    "    neb_file_reader = csv.reader(csvfile, delimiter='\\t')\n",
    "    for row in neb_file_reader:\n",
    "        name, sequence, nebtm, *rest = row\n",
    "        primerlist.append([name, sequence, nebtm])\n",
    "print(len(primerlist))"
   ]
  },
  {
   "cell_type": "code",
   "execution_count": 28,
   "metadata": {},
   "outputs": [
    {
     "name": "stdout",
     "output_type": "stream",
     "text": [
      "+------+--------------------+-----+---------+--------+\n",
      "| Name |      Sequence      | neb |    bp   | delta  |\n",
      "+------+--------------------+-----+---------+--------+\n",
      "| p142 | AATACAGTCTGCTACTTA |  48 | 48.5204 | 0.0004 |\n",
      "| p154 | TTTATGTTACAACGAGAC |  49 | 48.4702 | 0.0006 |\n",
      "|  p1  | CCCTCTCTTTTGGATGTA |  52 | 52.5062 | 0.0001 |\n",
      "| p120 | ACTAGGGGTATTTCCAAC |  52 | 52.5352 | 0.0007 |\n",
      "| p136 | TGTACGCACGTATAGTAC |  53 | 52.4891 | 0.0002 |\n",
      "| p54  | TCAACTCTTGACAGCGAT |  55 | 55.5408 | 0.0007 |\n",
      "| p57  | TAAGGGGCCCGTCTTAAA |  57 | 57.5968 | 0.0017 |\n",
      "|  p7  | CTCACCTGGAGGTCCGGG |  63 | 63.5432 | 0.0007 |\n",
      "+------+--------------------+-----+---------+--------+\n"
     ]
    }
   ],
   "source": [
    "from Bio.SeqUtils import MeltingTemp as mt\n",
    "from prettytable import PrettyTable\n",
    "t = PrettyTable(['Name', 'Sequence', \"neb\", \"bp\", \"delta\"])\n",
    "\n",
    "for name, primer, nebtm in primerlist:\n",
    "    # For Phusion, use this settings\n",
    "    bptm = mt.Tm_NN(\n",
    "            primer,\n",
    "            nn_table=mt.DNA_NN3,\n",
    "            Na=0,  # mM\n",
    "            K=50,  # mM\n",
    "            Tris=25,  # mM\n",
    "            Mg=1.5,\n",
    "            dnac1=500,  # nM\n",
    "            dnac2=0,  # nM\n",
    "            dNTPs=0.8,  # mM\n",
    "            saltcorr=1,)    \n",
    "    nebtm = int(nebtm)\n",
    "    if nebtm != round(bptm):\n",
    "        if nebtm > round(bptm):\n",
    "            d = nebtm - 0.5 - bptm\n",
    "        else:\n",
    "            d = nebtm + 0.5 - bptm\n",
    "        t.add_row([name, primer, nebtm, round(bptm, 4), round((abs(d)/bptm), 4)])\n",
    "print(t)"
   ]
  }
 ],
 "metadata": {
  "anaconda-cloud": {},
  "kernelspec": {
   "display_name": "Python [conda env:bjorn311]",
   "language": "python",
   "name": "conda-env-bjorn311-py"
  },
  "language_info": {
   "codemirror_mode": {
    "name": "ipython",
    "version": 3
   },
   "file_extension": ".py",
   "mimetype": "text/x-python",
   "name": "python",
   "nbconvert_exporter": "python",
   "pygments_lexer": "ipython3",
   "version": "3.11.8"
  }
 },
 "nbformat": 4,
 "nbformat_minor": 4
}
