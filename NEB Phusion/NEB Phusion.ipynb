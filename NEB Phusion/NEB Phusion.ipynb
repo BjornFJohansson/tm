{
 "cells": [
  {
   "attachments": {},
   "cell_type": "markdown",
   "metadata": {},
   "source": [
    "# NEB Tm Calculator - Phusion \n",
    "\n",
    "This notebook describe the replication of the NEB [Tm](https://tmcalculator.neb.com/#!/batch) settings \n",
    "using the Biopython [Bio.SeqUtils.MeltingTemp.Tm_NN](https://github.com/biopython/biopython/blob/d398dfacaae80ee2e438577172ff01f1eb1b7f7f/Bio/SeqUtils/MeltingTemp.py#L831) function.\n",
    "\n",
    "Screenshots of NEB Tm calculator settings:\n",
    "\n",
    "![](neb_phusion1.png)\n",
    "\n",
    "![](neb_phusion2.png)\n",
    "\n",
    "![](neb_phusion3.png)\n",
    "\n",
    "200 primers were [analyzed](tmcalc_batch.txt) \n"
   ]
  },
  {
   "cell_type": "code",
   "execution_count": 1,
   "metadata": {
    "scrolled": true
   },
   "outputs": [
    {
     "name": "stdout",
     "output_type": "stream",
     "text": [
      "200\n"
     ]
    }
   ],
   "source": [
    "import csv\n",
    "primerlist = []\n",
    "with open('tmcalc_batch.txt', newline='') as csvfile:\n",
    "    neb_file_reader = csv.reader(csvfile, delimiter='\\t')\n",
    "    for row in neb_file_reader:\n",
    "        name, sequence, nebtm, *rest = row\n",
    "        primerlist.append([name, sequence, nebtm])\n",
    "print(len(primerlist))"
   ]
  },
  {
   "cell_type": "code",
   "execution_count": 2,
   "metadata": {},
   "outputs": [
    {
     "name": "stdout",
     "output_type": "stream",
     "text": [
      "+------+--------------------+-----+---------+\n",
      "| Name |      Sequence      | neb |    bp   |\n",
      "+------+--------------------+-----+---------+\n",
      "| p142 | AATACAGTCTGCTACTTA |  48 | 48.5204 |\n",
      "| p154 | TTTATGTTACAACGAGAC |  49 | 48.4702 |\n",
      "|  p1  | CCCTCTCTTTTGGATGTA |  52 | 52.5062 |\n",
      "| p120 | ACTAGGGGTATTTCCAAC |  52 | 52.5352 |\n",
      "| p136 | TGTACGCACGTATAGTAC |  53 | 52.4891 |\n",
      "| p54  | TCAACTCTTGACAGCGAT |  55 | 55.5408 |\n",
      "| p57  | TAAGGGGCCCGTCTTAAA |  57 | 57.5968 |\n",
      "|  p7  | CTCACCTGGAGGTCCGGG |  63 | 63.5432 |\n",
      "+------+--------------------+-----+---------+\n"
     ]
    }
   ],
   "source": [
    "from Bio.SeqUtils import MeltingTemp as mt\n",
    "from prettytable import PrettyTable\n",
    "t = PrettyTable(['Name', 'Sequence', \"neb\", \"bp\"])\n",
    "\n",
    "for name, primer, nebtm in primerlist:\n",
    "    # For Phusion, use this settings\n",
    "    bptm = mt.Tm_NN(\n",
    "            primer,\n",
    "            nn_table=mt.DNA_NN3,\n",
    "            Na=0,  # mM\n",
    "            K=50,  # mM\n",
    "            Tris=25,  # mM\n",
    "            Mg=1.5,\n",
    "            dnac1=500,  # nM\n",
    "            dnac2=0,  # nM\n",
    "            dNTPs=0.8,  # mM\n",
    "            saltcorr=1,)    \n",
    "    nebtm = int(nebtm)\n",
    "    if nebtm != round(bptm):\n",
    "        t.add_row([name, primer, nebtm, round(bptm, 4)])\n",
    "print(t)"
   ]
  },
  {
   "cell_type": "markdown",
   "metadata": {},
   "source": [
    "8/200 primers analyzed had a Tm that rounded to a value 1°C from the neb result.\n",
    "This means that the parameters used by neb are very similar to the one used here."
   ]
  },
  {
   "cell_type": "code",
   "execution_count": null,
   "metadata": {},
   "outputs": [],
   "source": []
  }
 ],
 "metadata": {
  "anaconda-cloud": {},
  "kernelspec": {
   "display_name": "Python [conda env:bjorn311]",
   "language": "python",
   "name": "conda-env-bjorn311-py"
  },
  "language_info": {
   "codemirror_mode": {
    "name": "ipython",
    "version": 3
   },
   "file_extension": ".py",
   "mimetype": "text/x-python",
   "name": "python",
   "nbconvert_exporter": "python",
   "pygments_lexer": "ipython3",
   "version": "3.11.8"
  }
 },
 "nbformat": 4,
 "nbformat_minor": 4
}
