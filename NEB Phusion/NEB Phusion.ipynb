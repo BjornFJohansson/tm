{
 "cells": [
  {
   "attachments": {},
   "cell_type": "markdown",
   "metadata": {},
   "source": [
    "# Test of the NEB Tm Calculator ([tmcalculator.neb.com](https://tmcalculator.neb.com/#!/batch)) \n",
    "\n",
    "    example data in text format         Tm (NEB Phusion)\n",
    "    P1fwd\t AGCGGATAACAATTTCACACAGGA   62\n",
    "    P1rev\t GTAAAACGACGGCCAGT          57\n",
    "    pBeta\t AGCGGATAACAATTTCAC         52\n",
    "    P3fwd\t AGCGGATAAGGGCAATTTCAC      61\n",
    "    P3rev\t GTAAAACGACGGCCA            53\n",
    "\n",
    "Taq DNA Polymerase with [Standard Taq Buffer](https://www.neb.com/en/products/m0273-taq-dna-polymerase-with-standard-taq-buffer).\n",
    "\n",
    "    1X Standard Taq Reaction Buffer Pack\n",
    "    10 mM Tris-HCl\n",
    "    50 mM KCl\n",
    "    1.5 mM MgCl2\n",
    "    (pH 8.3 @ 25°C)\n",
    "\n",
    "The final concentration of dNTPs is typically 200 μM of each deoxynucleotide [source](https://www.neb.com/en/protocols/0001/01/01/taq-dna-polymerase-with-standard-taq-buffer-m0273).\n",
    "\n",
    "Thermodynamic data from SantaLucia 1998 and salt correction of Owczarzy 2004 were used according to docs [here](https://tmcalculator.neb.com/#!/help) and [here](https://tmapi.neb.com/#usage).\n",
    "\n",
    "SantaLucia, J, Jr. “A Unified View of Polymer, Dumbbell, and Oligonucleotide DNA Nearest-Neighbor Thermodynamics.” Proc. Natl. Acad. Sci. U. S. A. 95, no. 4 (February 17, 1998): 1460–65. https://www.ncbi.nlm.nih.gov/pubmed/9465037.\n",
    "\n",
    "Owczarzy, Richard, Yong You, Bernardo G Moreira, Jeffrey A Manthey, Lingyan Huang, Mark A Behlke, and Joseph A Walder. “Effects of Sodium Ions on DNA Duplex Oligomers: Improved Predictions of Melting Temperatures.” Biochemistry 43, no. 12 (March 30, 2004): 3537–54. https://doi.org/10.1021/bi034621r.\n",
    "\n",
    "PDFs of there references can be found in the refs folder of this repository.\n",
    "\n",
    "Can the NEB Tm Calculator be replicated in Biopython? There are four [built in tables](https://biopython.org/docs/1.83/api/Bio.SeqUtils.MeltingTemp.html#Bio.SeqUtils.MeltingTemp.Tm_NN): \n",
    "\n",
    "- DNA_NN1: values from Breslauer et al. (1986)\n",
    "- DNA_NN2: values from Sugimoto et al. (1996)\n",
    "- DNA_NN3: values from Allawi & SantaLucia (1997) (default) < == > Same as SantaLucia 1998\n",
    "- DNA_NN4: values from SantaLucia & Hicks (2004)\n",
    "\n",
    "Biopython does not have the SantaLucia (1998) thermodynamic data. This is similar, but not identical to DNA_NN3 and DNA_NN4 in the table above.\n",
    "\n",
    "Salt correction from BioPython [docs](https://biopython.org/docs/1.83/api/Bio.SeqUtils.MeltingTemp.html#Bio.SeqUtils.MeltingTemp.salt_correction): \n",
    "    \n",
    "1. 16.6 x log[Na+](Schildkraut & Lifson (1965), Biopolymers 3: 195-208)\n",
    "2. 16.6 x log([Na+]/(1.0 + 0.7*[Na+]))(Wetmur (1991), Crit Rev Biochem Mol Biol 126: 227-259)\n",
    "3. 12.5 x log(Na+](SantaLucia et al. (1996), Biochemistry 35: 3555-3562\n",
    "4. 11.7 x log[Na+](SantaLucia (1998), Proc Natl Acad Sci USA 95: 1460-1465\n",
    "5. Correction for deltaS: 0.368 x (N-1) x ln[Na+] (SantaLucia (1998), Proc Natl Acad Sci USA 95: 1460-1465)\n",
    "6. (4.29(%GC)-3.95)x1e-5 x ln[Na+] + 9.40e-6 x ln[Na+]^2  (Owczarzy et al. (2004), Biochemistry 43: 3537-3554) <====<<<<<\n",
    "7. Complex formula with decision tree and 7 empirical constants. Mg2+ is corrected for dNTPs binding (if present) (Owczarzy et al. (2008), Biochemistry 47: 5336-5353)\n",
    "\n",
    "The NEB calculator probably uses the #6 Owczarzy et al. (2004).\n",
    "   "
   ]
  },
  {
   "cell_type": "code",
   "execution_count": 2,
   "metadata": {},
   "outputs": [],
   "source": [
    "from pydna.parsers import parse_primers"
   ]
  },
  {
   "cell_type": "code",
   "execution_count": 3,
   "metadata": {},
   "outputs": [],
   "source": [
    "primers = parse_primers(\"\"\"\n",
    ">P1fwd NEB Tm Calculator=58\n",
    "AGCGGATAACAATTTCACACAGGA\t\n",
    ">P1rev NEB Tm Calculator=54\n",
    "GTAAAACGACGGCCAGT\t       \n",
    ">pBeta NEB Tm Calculator=48\n",
    "AGCGGATAACAATTTCAC\n",
    ">P3fwd NEB Tm Calculator=57\n",
    "AGCGGATAAGGGCAATTTCAC\t    \n",
    ">P3rev NEB Tm Calculator=50\n",
    "GTAAAACGACGGCCA\t        \n",
    "\"\"\")"
   ]
  },
  {
   "cell_type": "code",
   "execution_count": 4,
   "metadata": {},
   "outputs": [],
   "source": [
    "from Bio.SeqUtils import MeltingTemp as mt"
   ]
  },
  {
   "cell_type": "code",
   "execution_count": 5,
   "metadata": {},
   "outputs": [],
   "source": [
    "table_dict = {\n",
    "\"Breslauer 1986 \" :mt.DNA_NN1, \n",
    "\"Sugimoto 1996\" :mt.DNA_NN2, \n",
    "\"Allawi and SantaLucia 1997\" :mt.DNA_NN3, \n",
    "\"SantaLucia & Hicks 2004\" :mt.DNA_NN4,\n",
    "}"
   ]
  },
  {
   "cell_type": "code",
   "execution_count": 6,
   "metadata": {},
   "outputs": [],
   "source": [
    "saltcorr_dict = { \"Schildkraut 1965\":1,\n",
    "                  \"Wetmur 1991\":2,\n",
    "                  \"SantaLucia 1996\":3,\n",
    "                  \"SantaLucia 1998\":4,\n",
    "                  \"SantaLucia 1998 dS\":5,\n",
    "                  \"Owczarzy 2004\":6,\n",
    "                  \"Owczarzy 2008\":7, }"
   ]
  },
  {
   "cell_type": "code",
   "execution_count": 7,
   "metadata": {},
   "outputs": [
    {
     "name": "stdout",
     "output_type": "stream",
     "text": [
      "P1fwd NEB Tm Calculator=58 biopython=58   (57.614086700105645)\n",
      "P1rev NEB Tm Calculator=54 biopython=54   (53.96469180796623)\n",
      "pBeta NEB Tm Calculator=48 biopython=48   (47.95215317414028)\n",
      "P3fwd NEB Tm Calculator=57 biopython=57   (56.948297500718695)\n",
      "P3rev NEB Tm Calculator=50 biopython=50   (50.361977364511176)\n"
     ]
    }
   ],
   "source": [
    "nn_table = table_dict[\"Allawi and SantaLucia 1997\"]\n",
    "saltcorr = saltcorr_dict[\"Owczarzy 2004\"]\n",
    "\n",
    "for p in primers:\n",
    "\n",
    "    tm = mt.Tm_NN(str(p.seq), \n",
    "                  nn_table=nn_table,\n",
    "                  Na=50,         # mM\n",
    "                  Tris=10,       # mM\n",
    "                  Mg=1.5,        # mM\n",
    "                  dnac1=200,     # nM\n",
    "                  dnac2=0,       # nM\n",
    "                  dNTPs=200*4,     # mM\n",
    "                  saltcorr=saltcorr)\n",
    "    \n",
    "    print(p.description, f\"biopython={round(tm)}   ({tm})\")"
   ]
  },
  {
   "cell_type": "code",
   "execution_count": null,
   "metadata": {},
   "outputs": [],
   "source": []
  }
 ],
 "metadata": {
  "anaconda-cloud": {},
  "kernelspec": {
   "display_name": "Python [conda env:bjorn311]",
   "language": "python",
   "name": "conda-env-bjorn311-py"
  },
  "language_info": {
   "codemirror_mode": {
    "name": "ipython",
    "version": 3
   },
   "file_extension": ".py",
   "mimetype": "text/x-python",
   "name": "python",
   "nbconvert_exporter": "python",
   "pygments_lexer": "ipython3",
   "version": "3.11.8"
  }
 },
 "nbformat": 4,
 "nbformat_minor": 4
}
