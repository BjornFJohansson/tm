{
 "cells": [
  {
   "cell_type": "markdown",
   "metadata": {},
   "source": [
    "### Comparison of the [PCR Primer Inspector](http://www.molbiotools.com/primerinspector.php) and the Biopython [Bio.SeqUtils.MeltingTemp](https://biopython.org/docs/1.74/api/Bio.SeqUtils.MeltingTemp.html) module\n",
    "\n",
    "The objective of this analysis is to find out if PCR Primer Inspector and biopython calculate the same velue for Tm of primers. \n",
    "\n",
    "This comparison was done on November 5, 2019, Biopython version is 1.74\n",
    "\n",
    "The example case is described below:\n",
    "\n",
    "The PCR reaction is a version of this [standard](https://www.neb.com/protocols/0001/01/01/taq-dna-polymerase-with-standard-taq-buffer-m0273) protocol:\n",
    "\n",
    "- 1X Taq Buffer with (NH4)2SO4\n",
    "- 0.2 mM of each dNTP\n",
    "- 2 mM MgCl2\n",
    "- 1 µM Primer I \n",
    "- 1 µM Primer II \n",
    "- Template DNA\n",
    "\n",
    "The buffer has this composition:\n",
    "\n",
    "[10X Taq Buffer with (NH4)2SO4](https://www.thermofisher.com/order/catalog/product/B33?SID=srch-srp-B33#/B33?SID=srch-srp-B33) (B33) includes:\n",
    "- 750 mM Tris-HCl (pH 8.8 at 25°C)\n",
    "- 200 mM (NH4)2SO4\n",
    "- 0.1% (v/v) Tween 20\n",
    "\n",
    "\n",
    "This means that the final PCR reaction has: \n",
    "\n",
    "- 75 mM Tris-HCl\n",
    "- 40 mM NH4+ \n",
    "- 20 mM SO42-\n",
    "- 2  mM Mg2+\n",
    "- 4  mM Cl-\n",
    "\n",
    "The text below was copied from PCR Primer Inspector\n",
    "\n",
    "    The total concentration of monovalent cations is expectedly a sum of concentrations of sodium, potassium and ammonium cations \n",
    "    (not all of them have to be present in a PCR reaction mix). It is also advised to add the concentration of the dissociated \n",
    "    fraction of Tris in the PCR reaction mix (a half of the total Tris concentration may be a good approximation). \n",
    "    The Tm prediction may be less accurate in high concentrations (above 100 mM) of monovalent ions capable to form hydrogen bonds \n",
    "    (ammonium, Tris) and for bulkier monovalent ions (tetramethylammonium).\n",
    "\n",
    "Hence, \"Cations\" concentration should be 75/2 (half of Tris-HCl) + 40 (NH4+) = 77.5 mM\n",
    "\n",
    "This value was added to the input form together with the other data:\n",
    "\n",
    "![](page1.png)\n",
    "\n",
    "The result is 54.4°C using the method of Owczarzy 2008\n",
    "\n",
    "The text below was copied from PCR Primer Inspector\n",
    "\n",
    "    MELTING TEMPERATURE CALCULATION\n",
    "\n",
    "    All the melting temperature calculations provided here are based on the \n",
    "    nearest neighbor method with parameters described in references [1] and [4]. \n",
    "\n",
    "    Results of two different algorithms (references [2] and [3]) for monovalent \n",
    "    and magnesium cation correction are offered.\n",
    "\n",
    "\n",
    "    1.  A unified view of polymer, dumbbell, and oligonucleotide DNA nearest-neighbor thermodynamics\n",
    "        SantaLucia J. Jr. Proc Natl Acad Sci U S A. 1998;95(4):1460-5.\n",
    "\n",
    "    2.  Oligonucleotide melting temperatures under PCR conditions: nearest-neighbor corrections for Mg(2+), \n",
    "        deoxynucleotide triphosphate, and dimethyl sulfoxide concentrations with comparison to alternative \n",
    "        empirical formulas\n",
    "        von Ahsen N., Wittwer C. T., Schütz E.\n",
    "        Clin Chem. 2001;47(11):1956-61.\n",
    "\n",
    "    3.  Predicting stability of DNA duplexes in solutions containing magnesium and monovalent cations\n",
    "        Owczarzy R., Moreira B. G., You Y., Behlke M. A., Walder J. A.\n",
    "        Biochemistry. 2008;47(19):5336-53.\n",
    "\n",
    "    4.  The thermodynamics of DNA structural motifs\n",
    "        SantaLucia J. Jr., Hicks D.\n",
    "        Annu Rev Biophys Biomol Struct. 2004;33:415-40.\n",
    "        \n",
    "        \n",
    "From above can be deduced that:\n",
    "\n",
    "1. parameters described in references [1] and [4]\n",
    "2. The salt correction from Owczarzy 2008 is used.\n",
    "\n",
    "The first statement issomewhat ambigous as the data in 1 and 4 is different (see below)\n",
    "although versy similar.\n",
    "\n",
    "#### Reference [1]\n",
    "![](sl_and_hicks_2004_table1.png)\n",
    "\n",
    "#### Reference [4]\n",
    "![](sl_1998_table2.png)"
   ]
  },
  {
   "cell_type": "markdown",
   "metadata": {},
   "source": [
    "### Biopython\n",
    "\n",
    "From Biopython [docs](https://biopython.org/DIST/docs/api/Bio.SeqUtils.MeltingTemp-module.html):\n",
    "\n",
    "table: Thermodynamic NN values, eight tables are implemented: For DNA/DNA hybridizations:\n",
    "\n",
    "- DNA_NN1: values from Breslauer et al. (1986)\n",
    "- DNA_NN2: values from Sugimoto et al. (1996)\n",
    "- DNA_NN3: values from Allawi & SantaLucia (1997) (default)\n",
    "- DNA_NN4: values from SantaLucia & Hicks (2004)                   <====<<<\n",
    "\n",
    "I choose the DNA_NN4 as the SantaLucia 1998 data from PCR Primer Inspector does not seem to be available.\n",
    "On closer inspection, Allawi & SantaLucia (1997) table 1 seem identical to SantaLucia J. Jr., Hicks D. 2004 Table 2.\n",
    "\n",
    "The salt correction method from Owczarzy et al. (2008) was chosen since this was what was used for PCR Primer Inspector.\n",
    "\n",
    "[7](https://biopython.org/DIST/docs/api/Bio.SeqUtils.MeltingTemp-module.html#salt_correction) = Complex formula with decision tree and 7 empirical constants. Mg2+ is corrected for dNTPs binding (if present) (Owczarzy et al. (2008), Biochemistry 47: 5336-5353)"
   ]
  },
  {
   "cell_type": "code",
   "execution_count": 46,
   "metadata": {},
   "outputs": [
    {
     "data": {
      "text/plain": [
       "'1.74'"
      ]
     },
     "execution_count": 46,
     "metadata": {},
     "output_type": "execute_result"
    }
   ],
   "source": [
    "import Bio\n",
    "Bio.__version__"
   ]
  },
  {
   "cell_type": "code",
   "execution_count": 47,
   "metadata": {},
   "outputs": [
    {
     "name": "stdout",
     "output_type": "stream",
     "text": [
      "57.794407437364214\n"
     ]
    }
   ],
   "source": [
    "from Bio.SeqUtils import MeltingTemp as mt\n",
    "print( mt.Tm_NN(\"ATGGCAGTTGAGAAGA\", \n",
    "       nn_table=mt.DNA_NN4,\n",
    "       Na=40,\n",
    "       Tris=75.0,\n",
    "       Mg=2.0, \n",
    "       dnac1=1000, \n",
    "       dnac2=0, \n",
    "       dNTPs=0.8, \n",
    "       saltcorr=7) )"
   ]
  },
  {
   "cell_type": "markdown",
   "metadata": {},
   "source": [
    "The biopython module reports 57.79°C while the PCR Primer Inspector reported 54.4°C.\n",
    "The difference is about 3.4 °C."
   ]
  }
 ],
 "metadata": {
  "anaconda-cloud": {},
  "kernelspec": {
   "display_name": "Python [conda env:bjorn37]",
   "language": "python",
   "name": "conda-env-bjorn37-py"
  },
  "language_info": {
   "codemirror_mode": {
    "name": "ipython",
    "version": 3
   },
   "file_extension": ".py",
   "mimetype": "text/x-python",
   "name": "python",
   "nbconvert_exporter": "python",
   "pygments_lexer": "ipython3",
   "version": "3.7.3"
  }
 },
 "nbformat": 4,
 "nbformat_minor": 4
}
