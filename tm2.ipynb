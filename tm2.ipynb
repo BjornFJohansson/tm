{
 "cells": [
  {
   "cell_type": "code",
   "execution_count": 6,
   "metadata": {},
   "outputs": [
    {
     "data": {
      "text/plain": [
       "'1.78'"
      ]
     },
     "execution_count": 6,
     "metadata": {},
     "output_type": "execute_result"
    }
   ],
   "source": [
    "import Bio\n",
    "Bio.__version__"
   ]
  },
  {
   "cell_type": "code",
   "execution_count": 7,
   "metadata": {},
   "outputs": [],
   "source": [
    "from Bio.SeqUtils import MeltingTemp as mt"
   ]
  },
  {
   "cell_type": "markdown",
   "metadata": {},
   "source": [
    "The primer sequence is identical to the one used for the PCR Primer Inspector"
   ]
  },
  {
   "cell_type": "code",
   "execution_count": 8,
   "metadata": {},
   "outputs": [
    {
     "name": "stdout",
     "output_type": "stream",
     "text": [
      "57.794407437364214\n"
     ]
    }
   ],
   "source": [
    "print( mt.Tm_NN(\"ATGGCAGTTGAGAAGA\", \n",
    "       nn_table=mt.DNA_NN4,\n",
    "       Na=40,\n",
    "       Tris=75.0,\n",
    "       Mg=2.0, \n",
    "       dnac1=1000, \n",
    "       dnac2=0, \n",
    "       dNTPs=0.8, \n",
    "       saltcorr=7) )"
   ]
  },
  {
   "cell_type": "markdown",
   "metadata": {},
   "source": [
    "The biopython module reports 57.79°C while the PCR Primer Inspector reported 54.4°C.\n",
    "The difference is about 3.4 °C.\n",
    "\n",
    "This is a greater difference that I expected with care taken to use the same thermodynamic data. \n",
    "I contacted Vladimir Cermak by email:\n",
    "\n",
    "My email:\n",
    "\n",
    "Hi, I have tried to replicate the\n",
    "results from PCR Primer Inspector@molbiotools.com\n",
    "with biopython using the same parameters and the same data\n",
    "as far as I could tell. I still have a difference of about 3C.\n",
    "\n",
    "I compiled the comparison in this notebook:\n",
    "\n",
    "https://github.com/BjornFJohansson/tm/blob/master/tm.ipynb\n",
    "\n",
    "Would you care to have a look at it? to see if there is something obviously wrong?\n",
    "Is the code used by PCR Primer Inspector available for comparison?\n",
    "\n",
    "All the best,\n",
    "Björn Johansson\n",
    "\n",
    "Response:\n",
    "\n",
    "I tried to figure this out, but as I didn't see the python code I can only guess.\n",
    "\n",
    "PCR Primer Inspector uses the parameters from [1], but changing them to [4] gives only 0.1°C difference.\n",
    "\n",
    "What is probably the source of the discordant results is different understanding and implementation of this (from SantaLucia 1998):\n",
    "\n",
    "    \"For self-complementary oligonucleotide duplexes, the Tm is calculated from the predicted dH° and dS° and the total oligonucleotide strand concentration CT, by using the equation ...[3]... For non-selfcomplementary molecules, CT in Eq. 3 is replaced by CT/4 if the strands are in equal concentration or by (CA - CB/2) if the strands are at different concentrations, where CA and CB are the concentrations of the more concentrated and less concentrated strands, respectively.\"\n",
    "\n",
    "\n",
    "That sounds like it should be CT for PCR conditions where C(primer)>>C(template) and CT/4 for an equimolar mix of complementary oligos. \n",
    "However, when checking the available code of Primer3, I found they use CT/4 for PCR conditions. \n",
    "I decided to be compliant with Primer3 (also Primer BLAST).\n",
    "\n",
    "If I change the algorithm to CT instead of CT/4, it gives 57.0 for half the Tris concentration and \n",
    "57.9 for the whole Tris counted as monovalent cations.\n",
    "\n",
    "So it may be that there is a mistake in Primer3 (and hence also in PCR Primer Inspector), \n",
    "which is a kind of \"gold standard\" in the field....\n",
    "\n",
    "Best regards,\n",
    "Vladimir Cermak\n",
    "\n",
    "\n",
    "This means that the PCR Primer Inspector, Primer3 and other widely used tools implements the primer concentration\n",
    "in a way not intended by the original author. The question is how to correctly emulate this using Biopython.\n",
    "Fortunately the documentation explains this nicely:\n",
    "\n",
    "[![](dnac1_2.png)](https://biopython.org/DIST/docs/api/Bio.SeqUtils.MeltingTemp-pysrc.html#Tm_NN)\n",
    "\n",
    "\n",
    "If I instead assign dnac1 and dnac2 to half of the total primer concentration according to the biopyton docs,\n",
    "the result become rather similar, especially if I also switch to the mt.DNA_NN3 table.\n",
    "\n",
    "PCR Primer Inspector gave 54.4 while biopython below gave 0.8 C or 0.01 C higher tm."
   ]
  },
  {
   "cell_type": "code",
   "execution_count": 9,
   "metadata": {},
   "outputs": [
    {
     "name": "stdout",
     "output_type": "stream",
     "text": [
      "55.24658512819792\n",
      "54.49960170791479\n"
     ]
    }
   ],
   "source": [
    "from Bio.SeqUtils import MeltingTemp as mt\n",
    "print( mt.Tm_NN(\"ATGGCAGTTGAGAAGA\", \n",
    "       nn_table=mt.DNA_NN4,\n",
    "       Na=40,\n",
    "       Tris=75.0,\n",
    "       Mg=2.0, \n",
    "       dnac1=1000/2, \n",
    "       dnac2=1000/2, \n",
    "       dNTPs=0.8, \n",
    "       saltcorr=7) )\n",
    "print( mt.Tm_NN(\"ATGGCAGTTGAGAAGA\", \n",
    "       nn_table=mt.DNA_NN3,\n",
    "       Na=40,\n",
    "       Tris=75.0,\n",
    "       Mg=2.0, \n",
    "       dnac1=1000/2, \n",
    "       dnac2=1000/2, \n",
    "       dNTPs=0.8, \n",
    "       saltcorr=7) )"
   ]
  },
  {
   "cell_type": "markdown",
   "metadata": {},
   "source": [
    "As per the email exchange above, PCR Primer Inspector follow the implementation of Primer3 with respect to the DNA concentration.  \n",
    "[Primer3 - PCR primer design tool](https://github.com/primer3-org) is an old but widely usead and continuously updated program.\n",
    "\n",
    "Primer3 is a c-program that I would like to avoid installing for now. Fortunately, there are several Primer3 instances available on the net.\n",
    "\n",
    "A google search resulted in this primer3 instance: \n",
    "\n",
    "http://www.bioinformatics.nl/cgi-bin/primer3plus/primer3plus.cgi\n",
    "\n",
    "I tried to emulate the settings used for PCR Primer Inspector as closely as possible. \n",
    "The Owczarzy 2008 salt correction is not available so Owczarzy 2004 was chosen.\n",
    "\n",
    "![](primer3_settings2.png)\n",
    "\n",
    "Monovalent and divalent cations, dNTPs and Annealing oligo concentrations were \n",
    "selected to reflect previous settings.\n",
    "\n",
    "![](primer3_settings1.png)\n",
    "\n",
    "The resulting Tm is 57C\n",
    "\n",
    "![](primer3_result.png)\n",
    "\n",
    "This is almost identical to the same settings in biopython:"
   ]
  },
  {
   "cell_type": "code",
   "execution_count": 10,
   "metadata": {},
   "outputs": [
    {
     "name": "stdout",
     "output_type": "stream",
     "text": [
      "56.9591387892375\n"
     ]
    }
   ],
   "source": [
    "print( mt.Tm_NN(\"ATGGCAGTTGAGAAGA\", \n",
    "       nn_table=mt.DNA_NN3,\n",
    "       Na=40,\n",
    "       Tris=75.0,\n",
    "       Mg=2.0, \n",
    "       dnac1=1000/2, \n",
    "       dnac2=1000/2, \n",
    "       dNTPs=0.8, \n",
    "       saltcorr=6) )"
   ]
  },
  {
   "cell_type": "code",
   "execution_count": 12,
   "metadata": {},
   "outputs": [],
   "source": [
    "import pydna"
   ]
  },
  {
   "cell_type": "code",
   "execution_count": 13,
   "metadata": {},
   "outputs": [
    {
     "data": {
      "text/plain": [
       "'3.1.3.dev1+gca2d38a0dd'"
      ]
     },
     "execution_count": 13,
     "metadata": {},
     "output_type": "execute_result"
    }
   ],
   "source": [
    "pydna.__version__"
   ]
  },
  {
   "cell_type": "code",
   "execution_count": 11,
   "metadata": {},
   "outputs": [],
   "source": [
    "from pydna.tm import tm_default"
   ]
  },
  {
   "cell_type": "code",
   "execution_count": 14,
   "metadata": {},
   "outputs": [
    {
     "data": {
      "text/plain": [
       "52.64782631400061"
      ]
     },
     "execution_count": 14,
     "metadata": {},
     "output_type": "execute_result"
    }
   ],
   "source": [
    "tm_default(\"ATGGCAGTTGAGAAGA\")"
   ]
  },
  {
   "cell_type": "markdown",
   "metadata": {},
   "source": [
    "The philosophy around the value for tm is more complex than I thought. The text below comes from the documentation for the Primer3 instance online \n",
    "[Primer3](http://www.bioinformatics.nl/cgi-bin/primer3plus/primer3plusHelp.cgi).\n",
    "\n",
    "    Annealing Oligo Concentration\n",
    "\n",
    "    The nanomolar concentration of annealing oligos in the PCR. Primer3 uses this argument to calculate oligo melting temperatures. The default (50nM) works well with the standard protocol used at the Whitehead/MIT Center for Genome Research--0.5 microliters of 20 micromolar concentration for each primer oligo in a 20 microliter reaction with 10 nanograms template, 0.025 units/microliter Taq polymerase in 0.1 mM each dNTP, 1.5mM MgCl2, 50mM KCl, 10mM Tris-HCL (pH 9.3) using 35 cycles with an annealing temperature of 56 degrees Celsius. This parameter corresponds to 'c' in Rychlik, Spencer and Rhoads' equation (ii) (Nucleic Acids Research, vol 18, num 21) where a suitable value (for a lower initial concentration of template) is \"empirically determined\". The value of this parameter is less than the actual concentration of oligos in the reaction because it is the concentration of annealing oligos, which in turn depends on the amount of template (including PCR product) in a given cycle. This concentration increases a great deal during a PCR; fortunately PCR seems quite robust for a variety of oligo melting temperatures.\n",
    "    \n",
    " \n",
    "I am not sure if this is still considered state of the art."
   ]
  },
  {
   "cell_type": "code",
   "execution_count": null,
   "metadata": {},
   "outputs": [],
   "source": []
  }
 ],
 "metadata": {
  "anaconda-cloud": {},
  "kernelspec": {
   "display_name": "Python [conda env:bjorn311]",
   "language": "python",
   "name": "conda-env-bjorn311-py"
  },
  "language_info": {
   "codemirror_mode": {
    "name": "ipython",
    "version": 3
   },
   "file_extension": ".py",
   "mimetype": "text/x-python",
   "name": "python",
   "nbconvert_exporter": "python",
   "pygments_lexer": "ipython3",
   "version": "3.11.8"
  }
 },
 "nbformat": 4,
 "nbformat_minor": 4
}
