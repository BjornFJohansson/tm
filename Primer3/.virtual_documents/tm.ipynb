


import Bio
Bio.__version__


from Bio.SeqUtils import MeltingTemp as mt





print( mt.Tm_NN("ATGGCAGTTGAGAAGA", 
       nn_table=mt.DNA_NN4,
       Na=40,
       Tris=75.0,
       Mg=2.0, 
       dnac1=1000, 
       dnac2=0, 
       dNTPs=0.8, 
       saltcorr=7) )





from Bio.SeqUtils import MeltingTemp as mt
print( mt.Tm_NN("ATGGCAGTTGAGAAGA", 
       nn_table=mt.DNA_NN4,
       Na=40,
       Tris=75.0,
       Mg=2.0, 
       dnac1=1000/2, 
       dnac2=1000/2, 
       dNTPs=0.8, 
       saltcorr=7) )
print( mt.Tm_NN("ATGGCAGTTGAGAAGA", 
       nn_table=mt.DNA_NN3,
       Na=40,
       Tris=75.0,
       Mg=2.0, 
       dnac1=1000/2, 
       dnac2=1000/2, 
       dNTPs=0.8, 
       saltcorr=7) )





print( mt.Tm_NN("ATGGCAGTTGAGAAGA", 
       nn_table=mt.DNA_NN3,
       Na=40,
       Tris=75.0,
       Mg=2.0, 
       dnac1=1000/2, 
       dnac2=1000/2, 
       dNTPs=0.8, 
       saltcorr=6) )


import pydna


pydna.__version__


from pydna.tm import tm_default


tm_default("ATGGCAGTTGAGAAGA")






