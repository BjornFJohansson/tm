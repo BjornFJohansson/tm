


import Bio
from Bio.SeqUtils import MeltingTemp as mt
print("version", Bio.__version__)

tm = mt.Tm_NN("ATGGCAGTTGAGAAGA", 
       nn_table=mt.DNA_NN3,
       Na=50,
       Tris=0.0,
       Mg=0, 
       dnac1=25, 
       dnac2=25, 
       dNTPs=0, 
       saltcorr=5)

print(round(tm, 1))








import Bio
from Bio.SeqUtils import MeltingTemp as mt
print("biopython version", Bio.__version__)

tm = mt.Tm_NN("ATGGCAGTTGAGAAGA", 
       nn_table=mt.DNA_NN3,
       Na=50,
       Tris=0.0,
       Mg=0, 
       dnac1=25, 
       dnac2=25, 
       dNTPs=0, 
       saltcorr=6)

print(round(tm, 1))








import Bio
from Bio.SeqUtils import MeltingTemp as mt
print("biopython version", Bio.__version__)

tm = mt.Tm_NN("ATGGCAGTTGAGAAGA", 
       nn_table=mt.DNA_NN3,
       Na=40,
       Tris=75.0,
       Mg=2.0, 
       dnac1=500/2, 
       dnac2=500/2, 
       dNTPs=0.8, 
       saltcorr=6)

print(round(tm, 1))



