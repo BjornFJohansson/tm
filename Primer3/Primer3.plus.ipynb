{
 "cells": [
  {
   "attachments": {},
   "cell_type": "markdown",
   "metadata": {},
   "source": [
    "![](p3plus.png)\n",
    "\n",
    "\n",
    "[Primer3 - PCR primer design tool](https://github.com/primer3-org) is an old but widely usead and continuously updated PCR simulation program.\n",
    "\n",
    "There are at least two Primer3 instances available on the net.\n",
    "\n",
    "1. https://www.bioinformatics.nl/cgi-bin/primer3plus/primer3plus.cgi\n",
    "2. https://www.primer3plus.com\n",
    "\n",
    "I could not get the second instance to work, so experiments are done with the first one. It is not clear what version of Primer3 is used, but the last version of the source [link](http://sourceforge.net/projects/primer3) seems to be 2.6.1. Both instances refer to the same version.\n",
    "\n",
    "![](primer3_SantaLucia1998_SantaLucia1998.png)\n",
    "\n",
    "The default Tm data is Breslauer 1986. This is not available in recent Biopython versions. The other option is SantaLucia 1998 which is available in Biopython 1.83. Default salt correction is SantaLucia 1998.\n",
    "\n",
    "![](default_cations_primer_concentration.png)\n",
    "\n",
    "Default concentrations of monovalent cations is 50 mM and default primer concentration is 50 nM.\n",
    "\n",
    "![](result_SantaLucia1998_Owczarzy2004.png)\n",
    "\n",
    "The following code cell tries to replicate this result using Biopython `Bio.SeqUtils.MeltingTemp.Tm_NN`."
   ]
  },
  {
   "cell_type": "code",
   "execution_count": 48,
   "metadata": {},
   "outputs": [
    {
     "name": "stdout",
     "output_type": "stream",
     "text": [
      "version 1.83\n",
      "42.9\n"
     ]
    }
   ],
   "source": [
    "import Bio\n",
    "from Bio.SeqUtils import MeltingTemp as mt\n",
    "print(\"version\", Bio.__version__)\n",
    "\n",
    "tm = mt.Tm_NN(\"ATGGCAGTTGAGAAGA\", \n",
    "       nn_table=mt.DNA_NN3,\n",
    "       Na=50,\n",
    "       Tris=0.0,\n",
    "       Mg=0, \n",
    "       dnac1=25, \n",
    "       dnac2=25, \n",
    "       dNTPs=0, \n",
    "       saltcorr=5)\n",
    "\n",
    "print(round(tm, 1))"
   ]
  },
  {
   "cell_type": "markdown",
   "metadata": {},
   "source": [
    "Results agree perfectly for this case that is close to the default setting for Primer3plus."
   ]
  },
  {
   "cell_type": "markdown",
   "metadata": {},
   "source": [
    "The most recent salt correction in Primer3plus is Owczarzy 2004.\n",
    "\n",
    "![](primer3_SantaLucia1998_Owczarzy2004.png)\n",
    "\n",
    "![](result_SantaLucia1998_Owczarzy2004.png)\n"
   ]
  },
  {
   "cell_type": "code",
   "execution_count": 49,
   "metadata": {},
   "outputs": [
    {
     "name": "stdout",
     "output_type": "stream",
     "text": [
      "biopython version 1.83\n",
      "42.2\n"
     ]
    }
   ],
   "source": [
    "import Bio\n",
    "from Bio.SeqUtils import MeltingTemp as mt\n",
    "print(\"biopython version\", Bio.__version__)\n",
    "\n",
    "tm = mt.Tm_NN(\"ATGGCAGTTGAGAAGA\", \n",
    "       nn_table=mt.DNA_NN3,\n",
    "       Na=50,\n",
    "       Tris=0.0,\n",
    "       Mg=0, \n",
    "       dnac1=25, \n",
    "       dnac2=25, \n",
    "       dNTPs=0, \n",
    "       saltcorr=6)\n",
    "\n",
    "print(round(tm, 1))"
   ]
  },
  {
   "cell_type": "markdown",
   "metadata": {},
   "source": [
    "Again, results agree perfectly."
   ]
  },
  {
   "attachments": {},
   "cell_type": "markdown",
   "metadata": {},
   "source": [
    "Finally according to our standard protocol:\n",
    "\n",
    "- 1X Taq Buffer with (NH4)2SO4 (see below)\n",
    "- 0.2 mM of each dNTP\n",
    "- 2 mM MgCl2\n",
    "- 0.5 µM Primer I\n",
    "- 0.5 µM Primer II\n",
    "- (Template DNA)\n",
    "\n",
    "10X Taq Buffer with (NH4)2SO4 (B33) includes:\n",
    "- 750 mM Tris-HCl (pH 8.8 at 25°C)\n",
    "- 200 mM (NH4)2SO4\n",
    "- 0.1% (v/v) Tween 20\n",
    "\n",
    "Final PCR reaction has:\n",
    "- 75 mM Tris-HCl\n",
    "- 40 mM NH4+\n",
    "- 2 mM Mg2+\n",
    "\n",
    "Monovalent ions are NH4+ + Tris/2 = 40 + 75/2 = 77.5\n",
    "\n",
    "![](thermodynamics&salt.png)\n",
    "\n",
    "![](ions.png)\n",
    "\n",
    "![](r.png)"
   ]
  },
  {
   "cell_type": "code",
   "execution_count": 50,
   "metadata": {},
   "outputs": [
    {
     "name": "stdout",
     "output_type": "stream",
     "text": [
      "biopython version 1.83\n",
      "55.7\n"
     ]
    }
   ],
   "source": [
    "import Bio\n",
    "from Bio.SeqUtils import MeltingTemp as mt\n",
    "print(\"biopython version\", Bio.__version__)\n",
    "\n",
    "tm = mt.Tm_NN(\"ATGGCAGTTGAGAAGA\", \n",
    "       nn_table=mt.DNA_NN3,\n",
    "       Na=40,\n",
    "       Tris=75.0,\n",
    "       Mg=2.0, \n",
    "       dnac1=500/2, \n",
    "       dnac2=500/2, \n",
    "       dNTPs=0.8, \n",
    "       saltcorr=6)\n",
    "\n",
    "print(round(tm, 1))"
   ]
  },
  {
   "cell_type": "markdown",
   "metadata": {},
   "source": [
    "Results agree perfectly."
   ]
  }
 ],
 "metadata": {
  "anaconda-cloud": {},
  "kernelspec": {
   "display_name": "Python [conda env:bjorn311]",
   "language": "python",
   "name": "conda-env-bjorn311-py"
  },
  "language_info": {
   "codemirror_mode": {
    "name": "ipython",
    "version": 3
   },
   "file_extension": ".py",
   "mimetype": "text/x-python",
   "name": "python",
   "nbconvert_exporter": "python",
   "pygments_lexer": "ipython3",
   "version": "3.11.8"
  }
 },
 "nbformat": 4,
 "nbformat_minor": 4
}
