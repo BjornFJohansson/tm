


import math
from math import log
from Bio import SeqUtils

Tm_ref = 67.0 + 273.15 # °C in 621 mM NaCL

seq = "ATGCAATGCTACATATTCGC"

GC = SeqUtils.gc_fraction(seq, "ignore")

Na1 = 0.621 # M

Na2 = 0.150 # M

corr = ( (4.29 * GC - 3.95) * 1e-5 * (log(Na2) - log(Na1))
) + 9.40e-6 * (log(Na2) ** 2 - log(Na1) ** 2)

Tm = 1/((1/Tm_ref)+corr) - 273.15

assert Tm == 59.81536215455651


math.isclose(a, b, rel_tol=1e-9, abs_tol=0.0)






