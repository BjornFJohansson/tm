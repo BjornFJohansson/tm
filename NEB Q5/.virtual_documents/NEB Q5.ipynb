


import csv
primerlist = []
with open('tmcalc_batch.txt', newline='') as csvfile:
    neb_file_reader = csv.reader(csvfile, delimiter='\t')
    for row in neb_file_reader:
        name, sequence, nebtm, *rest = row
        primerlist.append([name, sequence, nebtm])
print(len(primerlist))


from Bio.SeqUtils import MeltingTemp as mt
from prettytable import PrettyTable
t = PrettyTable(['Name', 'Sequence', "neb", "bp"])
accdiff = 0

for name, primer, nebtm in primerlist:
    bptm = mt.Tm_NN(
        primer,
        nn_table=mt.DNA_NN3,
        Na=0,  # mM
        K=114.1533,  # mM
        Tris=0,  # mM
        Mg=2.0,
        dnac1=500,  # nM
        dnac2=0,  # nM
        dNTPs=0.8,  # mM
        saltcorr=7,
    ) 
    nebtm = int(nebtm)
    if nebtm != round(bptm):
        t.add_row([name, primer, nebtm, round(bptm, 4)])
    accdiff += nebtm - bptm
print(accdiff)
t


from Bio.SeqUtils import MeltingTemp as mt
from prettytable import PrettyTable
t = PrettyTable(['Name', 'Sequence', "neb", "bp"])
accdiff = 0

for name, primer, nebtm in primerlist:
    bptm = mt.Tm_NN(
        primer,
        nn_table=mt.DNA_NN3,
        Na=0,  # mM
        K=212.223,  # mM
        Tris=0,  # mM
        Mg=2.0,
        dnac1=500,  # nM
        dnac2=0,  # nM
        dNTPs=0.8,  # mM
        saltcorr=1,
    ) 
    nebtm = int(nebtm)
    if nebtm != round(bptm):
        t.add_row([name, primer, nebtm, round(bptm, 4)])
    accdiff += nebtm - bptm
print(accdiff)
t



