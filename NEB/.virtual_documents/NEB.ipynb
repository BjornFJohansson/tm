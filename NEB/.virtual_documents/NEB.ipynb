


from pydna.parsers import parse_primers


primers = parse_primers("""
>P1fwd NEB Tm Calculator=58
AGCGGATAACAATTTCACACAGGA	
>P1rev NEB Tm Calculator=54
GTAAAACGACGGCCAGT	       
>pBeta NEB Tm Calculator=48
AGCGGATAACAATTTCAC
>P3fwd NEB Tm Calculator=57
AGCGGATAAGGGCAATTTCAC	    
>P3rev NEB Tm Calculator=50
GTAAAACGACGGCCA	        
""")


from Bio.SeqUtils import MeltingTemp as mt


# SantaLucia (1998) 
DNA_NN5 = {
    "init": (0, 0), "init_A/T": (2.3, 4.1), "init_G/C": (0.1, -2.8),
    "init_oneG/C": (0, 0), "init_allA/T": (0, 0), "init_5T/A": (0, 0),
    "sym": (0, -1.4),
    "AA/TT": (-7.9, -22.2), "AT/TA": (-7.2, -20.4), "TA/AT": (-7.2, -21.3),
    "CA/GT": (-8.5, -22.7), "GT/CA": (-8.4, -22.4), "CT/GA": (-7.8, -21.0),
    "GA/CT": (-8.2, -22.2), "CG/GC": (-10.6, -27.2), "GC/CG": (-9.8, -24.4),
    "GG/CC": (-8.0, -19.9)}


table_dict = {
"Breslauer 1986 " :mt.DNA_NN1, 
"Sugimoto 1996" :mt.DNA_NN2, 
"Allawi and SantaLucia 1997" :mt.DNA_NN3, 
"SantaLucia & Hicks 2004" :mt.DNA_NN4,
"SantaLucia 1998" :DNA_NN5,
}


saltcorr_dict = { "Schildkraut 1965":1,
                  "Wetmur 1991":2,
                  "SantaLucia 1996":3,
                  "SantaLucia 1998":4,
                  "SantaLucia 1998 dS":5,
                  "Owczarzy 2004":6,
                  "Owczarzy 2008":7, }


nn_table = table_dict["SantaLucia 1998"]
saltcorr = saltcorr_dict["Owczarzy 2004"]

for p in primers:
    
    print(p.description, "biopython = ", mt.Tm_NN(str(p.seq), 
                   nn_table=nn_table,
                   Na=50,         # mM
                   Tris=10,       # mM
                   Mg=1.5,        # mM
                   dnac1=200,     # nM
                   dnac2=0,       # nM
                   dNTPs=200*4,     # mM
                   saltcorr=saltcorr))





primers = parse_primers("""
>P1fwd NEB Tm Calculator=66
AGCGGATAACAATTTCACACAGGA	
>P1rev NEB Tm Calculator=62
GTAAAACGACGGCCAGT	       
>pBeta NEB Tm Calculator=57
AGCGGATAACAATTTCAC
>P3fwd NEB Tm Calculator=65
AGCGGATAAGGGCAATTTCAC	    
>P3rev NEB Tm Calculator=59
GTAAAACGACGGCCA	        
""")


nn_table = table_dict["SantaLucia 1998"]
saltcorr = saltcorr_dict["Owczarzy 2004"]

for p in primers:    
    print(p.description, "biopython = ", mt.Tm_NN(str(p.seq), 
                   nn_table=nn_table,
                   Na=150,        # mM  Unknown!
                   Tris=20,       # mM  Unknown!
                   Mg=2.0,        # mM
                   dnac1=500,     # nM
                   dnac2=0,       # nM
                   dNTPs=200*4,   # mM
                   saltcorr=saltcorr))


nn_table = table_dict["SantaLucia 1998"]
saltcorr = saltcorr_dict["Schildkraut 1965"]

for p in primers:    
    print(p.description, "biopython = ", mt.Tm_NN(str(p.seq), 
                   nn_table=nn_table,
                   Na=150,        # mM  Unknown!
                   Tris=20,       # mM  Unknown!
                   Mg=2.0,        # mM
                   dnac1=500,     # nM
                   dnac2=0,       # nM
                   dNTPs=200*4,   # mM
                   saltcorr=saltcorr))



