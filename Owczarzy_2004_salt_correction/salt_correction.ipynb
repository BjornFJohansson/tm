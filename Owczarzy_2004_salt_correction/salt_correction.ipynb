{
 "cells": [
  {
   "cell_type": "markdown",
   "metadata": {},
   "source": [
    "![](title.png)\n",
    "\n",
    "A popular salt correction formula is described in [Owczarzy_2004](https://pubmed.ncbi.nlm.nih.gov/15035624).\n",
    "The goal of this exercise is to recreate an examle from the paper to assess the correctness of other implementations."
   ]
  },
  {
   "cell_type": "markdown",
   "metadata": {},
   "source": [
    "![](table3.png)\n",
    "\n",
    "The suggested method is listed as equation 22 in Table 3"
   ]
  },
  {
   "cell_type": "markdown",
   "metadata": {},
   "source": [
    "![](example.png)\n",
    "\n",
    "The detailed example above can be found on page 3550 in the left column.\n",
    "\n",
    "The sequence of the primer used in the example is: 5′-ATGCAATGCTACATATTCGC-3′."
   ]
  },
  {
   "cell_type": "code",
   "execution_count": 25,
   "metadata": {},
   "outputs": [
    {
     "name": "stdout",
     "output_type": "stream",
     "text": [
      "59.8\n"
     ]
    }
   ],
   "source": [
    "import math\n",
    "from math import log\n",
    "from Bio import SeqUtils\n",
    "\n",
    "Tm_ref = 67.0 + 273.15 # °C in 621 mM NaCL\n",
    "\n",
    "seq = \"ATGCAATGCTACATATTCGC\"\n",
    "\n",
    "GC = SeqUtils.gc_fraction(seq, \"ignore\")\n",
    "\n",
    "Na1 = 0.621 # M\n",
    "Na2 = 0.150 # M\n",
    "\n",
    "corr = ( (4.29 * GC - 3.95) * 1e-5 * (log(Na2) - log(Na1)) ) + 9.40e-6 * (log(Na2) ** 2 - log(Na1) ** 2)\n",
    "\n",
    "Tm = 1/((1/Tm_ref)+corr) - 273.15\n",
    "\n",
    "print(round(Tm, 1))\n",
    "assert math.isclose(Tm, 59.81536215455651)"
   ]
  },
  {
   "cell_type": "markdown",
   "metadata": {},
   "source": [
    "The close agreement can give some confindence that the calculation was performed as intended.\n",
    "The reference data used was made at 1M which means that all the terms containing log(Na1) are zero."
   ]
  },
  {
   "cell_type": "code",
   "execution_count": 26,
   "metadata": {},
   "outputs": [
    {
     "data": {
      "text/plain": [
       "7.621286429065262e-05"
      ]
     },
     "execution_count": 26,
     "metadata": {},
     "output_type": "execute_result"
    }
   ],
   "source": [
    "corr2 = ( (4.29 * GC - 3.95) * 1e-5 * (log(Na2) - 0) ) + 9.40e-6 * (log(Na2) ** 2 - 0 ** 2)\n",
    "corr2"
   ]
  },
  {
   "cell_type": "markdown",
   "metadata": {},
   "source": [
    "Biopython contains a salt_correction function that can calculate tm according to the same formula."
   ]
  },
  {
   "cell_type": "code",
   "execution_count": 27,
   "metadata": {},
   "outputs": [],
   "source": [
    "from Bio.SeqUtils.MeltingTemp import salt_correction"
   ]
  },
  {
   "cell_type": "markdown",
   "metadata": {},
   "source": [
    "Biopython contains a [salt_correction](https://github.com/biopython/biopython/blob/d398dfacaae80ee2e438577172ff01f1eb1b7f7f/Bio/SeqUtils/MeltingTemp.py#L475) function that can calculate tm according to the same formula."
   ]
  },
  {
   "cell_type": "code",
   "execution_count": 28,
   "metadata": {},
   "outputs": [
    {
     "data": {
      "text/plain": [
       "7.621286429065262e-05"
      ]
     },
     "execution_count": 28,
     "metadata": {},
     "output_type": "execute_result"
    }
   ],
   "source": [
    "bp_corr = salt_correction(Na=150, K=0, Tris=0, Mg=0, dNTPs=0, method=6, seq=seq)\n",
    "bp_corr"
   ]
  },
  {
   "cell_type": "markdown",
   "metadata": {},
   "source": [
    "The biopython implementation seems identical to the one in this notebook."
   ]
  },
  {
   "cell_type": "code",
   "execution_count": 29,
   "metadata": {},
   "outputs": [],
   "source": [
    "assert math.isclose(corr2, bp_corr)"
   ]
  }
 ],
 "metadata": {
  "anaconda-cloud": {},
  "kernelspec": {
   "display_name": "Python [conda env:bjorn311]",
   "language": "python",
   "name": "conda-env-bjorn311-py"
  },
  "language_info": {
   "codemirror_mode": {
    "name": "ipython",
    "version": 3
   },
   "file_extension": ".py",
   "mimetype": "text/x-python",
   "name": "python",
   "nbconvert_exporter": "python",
   "pygments_lexer": "ipython3",
   "version": "3.11.8"
  }
 },
 "nbformat": 4,
 "nbformat_minor": 4
}
