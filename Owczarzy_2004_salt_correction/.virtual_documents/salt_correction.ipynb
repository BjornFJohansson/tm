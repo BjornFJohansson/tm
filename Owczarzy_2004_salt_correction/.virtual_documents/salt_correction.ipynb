








import math
from math import log
from Bio import SeqUtils

Tm_ref = 67.0 + 273.15 # °C in 621 mM NaCL

seq = "ATGCAATGCTACATATTCGC"

GC = SeqUtils.gc_fraction(seq, "ignore")

Na1 = 0.621 # M
Na2 = 0.150 # M

corr = ( (4.29 * GC - 3.95) * 1e-5 * (log(Na2) - log(Na1)) ) + 9.40e-6 * (log(Na2) ** 2 - log(Na1) ** 2)

Tm = 1/((1/Tm_ref)+corr) - 273.15

print(round(Tm, 1))
assert math.isclose(Tm, 59.81536215455651)





corr2 = ( (4.29 * GC - 3.95) * 1e-5 * (log(Na2) - 0) ) + 9.40e-6 * (log(Na2) ** 2 - 0 ** 2)
corr2





from Bio.SeqUtils.MeltingTemp import salt_correction





bp_corr = salt_correction(Na=150, K=0, Tris=0, Mg=0, dNTPs=0, method=6, seq=seq)
bp_corr





assert math.isclose(corr2, bp_corr)
